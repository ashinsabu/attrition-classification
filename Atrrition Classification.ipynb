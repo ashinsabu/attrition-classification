{
 "cells": [
  {
   "cell_type": "code",
   "execution_count": 1,
   "id": "8fc5c26d-64c5-416c-a151-013324dc049a",
   "metadata": {
    "id": "8fc5c26d-64c5-416c-a151-013324dc049a"
   },
   "outputs": [],
   "source": [
    "import os\n",
    "import numpy as np\n",
    "from matplotlib import pyplot\n",
    "import pandas as pd\n",
    "from sklearn.preprocessing import OneHotEncoder\n",
    "%matplotlib inline"
   ]
  },
  {
   "cell_type": "code",
   "execution_count": 2,
   "id": "_d4EbSC9ATAf",
   "metadata": {
    "colab": {
     "base_uri": "https://localhost:8080/"
    },
    "id": "_d4EbSC9ATAf",
    "outputId": "03bde3ae-523a-421a-debd-aa197d26d124"
   },
   "outputs": [],
   "source": [
    "# from google.colab import drive\n",
    "# drive.mount('/content/drive')"
   ]
  },
  {
   "cell_type": "code",
   "execution_count": 3,
   "id": "712ae5c7-7ec7-42e5-9a2b-5614978b8b75",
   "metadata": {
    "colab": {
     "base_uri": "https://localhost:8080/",
     "height": 332
    },
    "id": "712ae5c7-7ec7-42e5-9a2b-5614978b8b75",
    "outputId": "5b1faa85-2dba-4872-ee43-236db6440ae9"
   },
   "outputs": [
    {
     "data": {
      "text/html": [
       "<div>\n",
       "<style scoped>\n",
       "    .dataframe tbody tr th:only-of-type {\n",
       "        vertical-align: middle;\n",
       "    }\n",
       "\n",
       "    .dataframe tbody tr th {\n",
       "        vertical-align: top;\n",
       "    }\n",
       "\n",
       "    .dataframe thead th {\n",
       "        text-align: right;\n",
       "    }\n",
       "</style>\n",
       "<table border=\"1\" class=\"dataframe\">\n",
       "  <thead>\n",
       "    <tr style=\"text-align: right;\">\n",
       "      <th></th>\n",
       "      <th>Age</th>\n",
       "      <th>Attrition</th>\n",
       "      <th>BusinessTravel</th>\n",
       "      <th>Department</th>\n",
       "      <th>DistanceFromHome</th>\n",
       "      <th>Gender</th>\n",
       "      <th>JobInvolvement</th>\n",
       "      <th>JobLevel</th>\n",
       "      <th>JobRole</th>\n",
       "      <th>JobSatisfaction</th>\n",
       "      <th>...</th>\n",
       "      <th>Higher_Education</th>\n",
       "      <th>Date_of_Hire</th>\n",
       "      <th>Date_of_termination</th>\n",
       "      <th>Status_of_leaving</th>\n",
       "      <th>Mode_of_work</th>\n",
       "      <th>Leaves</th>\n",
       "      <th>Absenteeism</th>\n",
       "      <th>Work_accident</th>\n",
       "      <th>Source_of_Hire</th>\n",
       "      <th>Job_mode</th>\n",
       "    </tr>\n",
       "  </thead>\n",
       "  <tbody>\n",
       "    <tr>\n",
       "      <th>0</th>\n",
       "      <td>37</td>\n",
       "      <td>Yes</td>\n",
       "      <td>Travel_Rarely</td>\n",
       "      <td>Research &amp; Development</td>\n",
       "      <td>2</td>\n",
       "      <td>Male</td>\n",
       "      <td>2</td>\n",
       "      <td>1</td>\n",
       "      <td>Laboratory Technician</td>\n",
       "      <td>3</td>\n",
       "      <td>...</td>\n",
       "      <td>Graduation</td>\n",
       "      <td>2021-01-21</td>\n",
       "      <td>NaN</td>\n",
       "      <td>Salary</td>\n",
       "      <td>OFFICE</td>\n",
       "      <td>4</td>\n",
       "      <td>2</td>\n",
       "      <td>No</td>\n",
       "      <td>Job Event</td>\n",
       "      <td>Contract</td>\n",
       "    </tr>\n",
       "    <tr>\n",
       "      <th>1</th>\n",
       "      <td>21</td>\n",
       "      <td>No</td>\n",
       "      <td>Travel_Rarely</td>\n",
       "      <td>Research &amp; Development</td>\n",
       "      <td>15</td>\n",
       "      <td>Male</td>\n",
       "      <td>3</td>\n",
       "      <td>1</td>\n",
       "      <td>Research Scientist</td>\n",
       "      <td>4</td>\n",
       "      <td>...</td>\n",
       "      <td>Graduation</td>\n",
       "      <td>2021-03-13</td>\n",
       "      <td>NaN</td>\n",
       "      <td>Work Accident</td>\n",
       "      <td>WFH</td>\n",
       "      <td>5</td>\n",
       "      <td>2</td>\n",
       "      <td>No</td>\n",
       "      <td>Recruiter</td>\n",
       "      <td>Part Time</td>\n",
       "    </tr>\n",
       "    <tr>\n",
       "      <th>2</th>\n",
       "      <td>45</td>\n",
       "      <td>No</td>\n",
       "      <td>Travel_Rarely</td>\n",
       "      <td>Research &amp; Development</td>\n",
       "      <td>6</td>\n",
       "      <td>Male</td>\n",
       "      <td>3</td>\n",
       "      <td>3</td>\n",
       "      <td>Research Director</td>\n",
       "      <td>1</td>\n",
       "      <td>...</td>\n",
       "      <td>Post-Graduation</td>\n",
       "      <td>2021-01-23</td>\n",
       "      <td>NaN</td>\n",
       "      <td>Dept.Head</td>\n",
       "      <td>WFH</td>\n",
       "      <td>1</td>\n",
       "      <td>3</td>\n",
       "      <td>No</td>\n",
       "      <td>Job Event</td>\n",
       "      <td>Contract</td>\n",
       "    </tr>\n",
       "    <tr>\n",
       "      <th>3</th>\n",
       "      <td>23</td>\n",
       "      <td>No</td>\n",
       "      <td>Travel_Rarely</td>\n",
       "      <td>Sales</td>\n",
       "      <td>2</td>\n",
       "      <td>Male</td>\n",
       "      <td>3</td>\n",
       "      <td>1</td>\n",
       "      <td>Sales Representative</td>\n",
       "      <td>1</td>\n",
       "      <td>...</td>\n",
       "      <td>PHD</td>\n",
       "      <td>2021-04-25</td>\n",
       "      <td>NaN</td>\n",
       "      <td>Work Accident</td>\n",
       "      <td>OFFICE</td>\n",
       "      <td>1</td>\n",
       "      <td>0</td>\n",
       "      <td>Yes</td>\n",
       "      <td>Recruiter</td>\n",
       "      <td>FullTime</td>\n",
       "    </tr>\n",
       "    <tr>\n",
       "      <th>4</th>\n",
       "      <td>22</td>\n",
       "      <td>No</td>\n",
       "      <td>Travel_Rarely</td>\n",
       "      <td>Research &amp; Development</td>\n",
       "      <td>15</td>\n",
       "      <td>Female</td>\n",
       "      <td>3</td>\n",
       "      <td>1</td>\n",
       "      <td>Laboratory Technician</td>\n",
       "      <td>4</td>\n",
       "      <td>...</td>\n",
       "      <td>PHD</td>\n",
       "      <td>2021-06-14</td>\n",
       "      <td>NaN</td>\n",
       "      <td>Better Opportunity</td>\n",
       "      <td>WFH</td>\n",
       "      <td>5</td>\n",
       "      <td>2</td>\n",
       "      <td>No</td>\n",
       "      <td>Job Event</td>\n",
       "      <td>Contract</td>\n",
       "    </tr>\n",
       "  </tbody>\n",
       "</table>\n",
       "<p>5 rows × 32 columns</p>\n",
       "</div>"
      ],
      "text/plain": [
       "   Age Attrition BusinessTravel              Department  DistanceFromHome  \\\n",
       "0   37       Yes  Travel_Rarely  Research & Development                 2   \n",
       "1   21        No  Travel_Rarely  Research & Development                15   \n",
       "2   45        No  Travel_Rarely  Research & Development                 6   \n",
       "3   23        No  Travel_Rarely                   Sales                 2   \n",
       "4   22        No  Travel_Rarely  Research & Development                15   \n",
       "\n",
       "   Gender  JobInvolvement  JobLevel                JobRole  JobSatisfaction  \\\n",
       "0    Male               2         1  Laboratory Technician                3   \n",
       "1    Male               3         1     Research Scientist                4   \n",
       "2    Male               3         3      Research Director                1   \n",
       "3    Male               3         1   Sales Representative                1   \n",
       "4  Female               3         1  Laboratory Technician                4   \n",
       "\n",
       "   ... Higher_Education  Date_of_Hire  Date_of_termination  \\\n",
       "0  ...       Graduation    2021-01-21                  NaN   \n",
       "1  ...       Graduation    2021-03-13                  NaN   \n",
       "2  ...  Post-Graduation    2021-01-23                  NaN   \n",
       "3  ...              PHD    2021-04-25                  NaN   \n",
       "4  ...              PHD    2021-06-14                  NaN   \n",
       "\n",
       "    Status_of_leaving  Mode_of_work  Leaves  Absenteeism  Work_accident  \\\n",
       "0              Salary        OFFICE       4            2             No   \n",
       "1       Work Accident           WFH       5            2             No   \n",
       "2           Dept.Head           WFH       1            3             No   \n",
       "3       Work Accident        OFFICE       1            0            Yes   \n",
       "4  Better Opportunity           WFH       5            2             No   \n",
       "\n",
       "   Source_of_Hire   Job_mode  \n",
       "0       Job Event   Contract  \n",
       "1       Recruiter  Part Time  \n",
       "2       Job Event   Contract  \n",
       "3       Recruiter   FullTime  \n",
       "4       Job Event   Contract  \n",
       "\n",
       "[5 rows x 32 columns]"
      ]
     },
     "execution_count": 3,
     "metadata": {},
     "output_type": "execute_result"
    }
   ],
   "source": [
    "training_data_x = pd.read_excel(\"Final dataset Attrition.xlsx\", engine =\"openpyxl\")\n",
    "training_data_x.head()"
   ]
  },
  {
   "cell_type": "markdown",
   "id": "3P_D84hKB1mn",
   "metadata": {
    "id": "3P_D84hKB1mn"
   },
   "source": [
    "# **Notes about data**\n",
    "\n",
    "We need to perform one-hot-encoding on some of the input features that are string-like and add them at the end of the training set. We may ignore the day of joining feature since the data about leaving is not provided and it would be trivial to have a single date as going by intuition it should have zero impact on the attrition rate.\n",
    "\n",
    "**Features to be changed:** \n",
    "\n",
    "\n",
    "*   BusinessTravel\n",
    "*   Department\n",
    "*   Gender\n",
    "*   JobRole\n",
    "*   MaritalStatus\n",
    "*   OverTime\n"
   ]
  },
  {
   "cell_type": "markdown",
   "id": "IsJXfTT9HptG",
   "metadata": {
    "id": "IsJXfTT9HptG"
   },
   "source": [
    "# **Scaling Integer features**"
   ]
  },
  {
   "cell_type": "code",
   "execution_count": 4,
   "id": "6nB0Cd9cBhUK",
   "metadata": {
    "id": "6nB0Cd9cBhUK"
   },
   "outputs": [],
   "source": [
    "x_age = training_data_x['Age'].to_numpy()\n",
    "x_distanceFromHome = training_data_x['DistanceFromHome'].to_numpy()\n",
    "x_jobInvolvement = training_data_x['JobInvolvement'].to_numpy()\n",
    "x_jobLevel = training_data_x['JobLevel'].to_numpy()\n",
    "x_jobSatisfaction = training_data_x['JobSatisfaction'].to_numpy()\n",
    "x_monthlyIncome = training_data_x['MonthlyIncome'].to_numpy()\n",
    "x_numCompaniesWorked = training_data_x['NumCompaniesWorked'].to_numpy()\n",
    "x_percentSalaryHike = training_data_x['PercentSalaryHike'].to_numpy()\n",
    "x_performanceRating = training_data_x['PerformanceRating'].to_numpy()\n",
    "x_stockOptionLevel = training_data_x['StockOptionLevel'].to_numpy()\n",
    "x_totalWorkingYears = training_data_x['TotalWorkingYears'].to_numpy()\n",
    "x_trainingTimesLastYear = training_data_x['TrainingTimesLastYear'].to_numpy()\n",
    "x_yearsAtCompany = training_data_x['YearsAtCompany'].to_numpy()\n",
    "x_yearsSinceLastPromotion = training_data_x['YearsSinceLastPromotion'].to_numpy()\n",
    "x_yearsWithCurrManager = training_data_x['YearsWithCurrManager'].to_numpy()\n",
    "x_leaves = training_data_x['Leaves'].to_numpy()\n",
    "x_absenteeism = training_data_x['Absenteeism'].to_numpy()"
   ]
  },
  {
   "cell_type": "code",
   "execution_count": 5,
   "id": "HdxP22AhR2O6",
   "metadata": {
    "colab": {
     "base_uri": "https://localhost:8080/"
    },
    "id": "HdxP22AhR2O6",
    "outputId": "79291b43-9d1c-49b0-f02d-28c87bf1d694"
   },
   "outputs": [
    {
     "name": "stdout",
     "output_type": "stream",
     "text": [
      "[1 0 0 ... 0 0 1]\n"
     ]
    }
   ],
   "source": [
    "attrition = training_data_x['Attrition'].to_numpy()\n",
    "attritionBoolean = []\n",
    "for x in attrition:\n",
    "  if(x == \"Yes\"):\n",
    "    attritionBoolean.append(1)\n",
    "  else:\n",
    "    attritionBoolean.append(0)\n",
    "attritionBoolean = np.array(attritionBoolean)\n",
    "print(attritionBoolean)"
   ]
  },
  {
   "cell_type": "code",
   "execution_count": 6,
   "id": "pjorksHAPcgd",
   "metadata": {
    "colab": {
     "base_uri": "https://localhost:8080/"
    },
    "id": "pjorksHAPcgd",
    "outputId": "e84742bf-18fb-4cad-86ef-b79446a74794"
   },
   "outputs": [
    {
     "name": "stdout",
     "output_type": "stream",
     "text": [
      "[[ 1 37  2 ...  0  4  2]\n",
      " [ 0 21 15 ...  0  5  2]\n",
      " [ 0 45  6 ...  0  1  3]\n",
      " ...\n",
      " [ 0 55 26 ... 13  2  1]\n",
      " [ 0 58 10 ...  8  2  2]\n",
      " [ 1 58 23 ...  6  4  3]]\n"
     ]
    }
   ],
   "source": [
    "scalingFeatures = np.array(attritionBoolean)\n",
    "scalingFeatures = np.vstack([scalingFeatures, x_age, x_distanceFromHome, x_jobInvolvement, x_jobLevel, x_jobSatisfaction, x_monthlyIncome, \n",
    "                             x_numCompaniesWorked, x_percentSalaryHike, x_performanceRating, x_stockOptionLevel, x_totalWorkingYears, \n",
    "                             x_trainingTimesLastYear, x_yearsAtCompany, x_yearsSinceLastPromotion, x_yearsWithCurrManager, x_leaves, \n",
    "                             x_absenteeism])\n",
    "scalingFeatures = scalingFeatures.transpose()\n",
    "print(scalingFeatures)"
   ]
  },
  {
   "cell_type": "markdown",
   "id": "bmUrPS69IN2e",
   "metadata": {
    "id": "bmUrPS69IN2e"
   },
   "source": [
    "# **Features to be split through one hot encoding**"
   ]
  },
  {
   "cell_type": "code",
   "execution_count": 7,
   "id": "7v-bCf7EEb_D",
   "metadata": {
    "id": "7v-bCf7EEb_D"
   },
   "outputs": [],
   "source": [
    "x_workAccident = training_data_x['Work_accident'].to_numpy()\n",
    "x_businessTravel = training_data_x['BusinessTravel'].to_numpy()\n",
    "x_department = training_data_x['Department'].to_numpy()\n",
    "x_gender = training_data_x['Gender'].to_numpy()\n",
    "x_jobRole = training_data_x['JobRole'].to_numpy()\n",
    "x_maritalStatus = training_data_x['MaritalStatus'].to_numpy()\n",
    "x_overtime = training_data_x['OverTime'].to_numpy()\n",
    "x_higherEducation = training_data_x['Higher_Education'].to_numpy()\n",
    "x_statusOfLeaving = training_data_x['Status_of_leaving'].to_numpy()\n",
    "x_modeOfWork = training_data_x['Mode_of_work'].to_numpy()\n",
    "x_sourceOfHire = training_data_x['Source_of_Hire'].to_numpy()\n",
    "x_jobMode = training_data_x['Job_mode'].to_numpy()"
   ]
  },
  {
   "cell_type": "code",
   "execution_count": 8,
   "id": "M2yKvo3UKBv-",
   "metadata": {
    "id": "M2yKvo3UKBv-"
   },
   "outputs": [],
   "source": [
    "stringFeatures = np.array(x_workAccident)\n",
    "stringFeatures = np.vstack([stringFeatures, x_businessTravel, x_department, x_gender, x_jobRole, x_maritalStatus, x_overtime, x_higherEducation,\n",
    "                            x_statusOfLeaving, x_modeOfWork, x_sourceOfHire, x_jobMode])\n",
    "stringFeatures = stringFeatures.transpose()"
   ]
  },
  {
   "cell_type": "code",
   "execution_count": 9,
   "id": "3uk2X-cVKhf1",
   "metadata": {
    "colab": {
     "base_uri": "https://localhost:8080/"
    },
    "id": "3uk2X-cVKhf1",
    "outputId": "43095ca7-735e-416b-af4c-9fbae9069c50"
   },
   "outputs": [
    {
     "data": {
      "text/plain": [
       "[array(['No', 'Yes'], dtype=object),\n",
       " array(['Non-Travel', 'Travel_Frequently', 'Travel_Rarely'], dtype=object),\n",
       " array(['Human Resources', 'Research & Development', 'Sales'], dtype=object),\n",
       " array(['Female', 'Male'], dtype=object),\n",
       " array(['Healthcare Representative', 'Human Resources',\n",
       "        'Laboratory Technician', 'Manager', 'Manufacturing Director',\n",
       "        'Research Director', 'Research Scientist', 'Sales Executive',\n",
       "        'Sales Representative'], dtype=object),\n",
       " array(['Divorced', 'Married', 'Single'], dtype=object),\n",
       " array(['No', 'Yes'], dtype=object),\n",
       " array(['12th', 'Graduation', 'PHD', 'Post-Graduation'], dtype=object),\n",
       " array(['Better Opportunity', 'Dept.Head', 'Salary', 'Work Accident',\n",
       "        'Work Environment'], dtype=object),\n",
       " array(['OFFICE', 'WFH'], dtype=object),\n",
       " array(['Job Event', 'Job Portal', 'Recruiter', 'Walk-in'], dtype=object),\n",
       " array(['Contract', 'FullTime', 'Part Time'], dtype=object)]"
      ]
     },
     "execution_count": 9,
     "metadata": {},
     "output_type": "execute_result"
    }
   ],
   "source": [
    "featureEncoder = OneHotEncoder(handle_unknown = 'ignore')\n",
    "featureEncoder.fit(stringFeatures)\n",
    "featureEncoder.categories_"
   ]
  },
  {
   "cell_type": "code",
   "execution_count": 10,
   "id": "Sl-gIulSNQsw",
   "metadata": {
    "colab": {
     "base_uri": "https://localhost:8080/"
    },
    "id": "Sl-gIulSNQsw",
    "outputId": "9ba7ff5d-5eef-44ff-a61d-ae1d2802ac46"
   },
   "outputs": [
    {
     "name": "stdout",
     "output_type": "stream",
     "text": [
      "Schema for encoded format of string features\n"
     ]
    },
    {
     "data": {
      "text/plain": [
       "array(['workAccident_No', 'workAccident_Yes', 'businessTravel_Non-Travel',\n",
       "       'businessTravel_Travel_Frequently', 'businessTravel_Travel_Rarely',\n",
       "       'department_Human Resources', 'department_Research & Development',\n",
       "       'department_Sales', 'gender_Female', 'gender_Male',\n",
       "       'jobRole_Healthcare Representative', 'jobRole_Human Resources',\n",
       "       'jobRole_Laboratory Technician', 'jobRole_Manager',\n",
       "       'jobRole_Manufacturing Director', 'jobRole_Research Director',\n",
       "       'jobRole_Research Scientist', 'jobRole_Sales Executive',\n",
       "       'jobRole_Sales Representative', 'maritalStatus_Divorced',\n",
       "       'maritalStatus_Married', 'maritalStatus_Single', 'overtime_No',\n",
       "       'overtime_Yes', 'higherEducation_12th',\n",
       "       'higherEducation_Graduation', 'higherEducation_PHD',\n",
       "       'higherEducation_Post-Graduation',\n",
       "       'statusOfLeaving_Better Opportunity', 'statusOfLeaving_Dept.Head',\n",
       "       'statusOfLeaving_Salary', 'statusOfLeaving_Work Accident',\n",
       "       'statusOfLeaving_Work Environment', 'modeOfWork_OFFICE',\n",
       "       'modeOfWork_WFH', 'sourceOfHire_Job Event',\n",
       "       'sourceOfHire_Job Portal', 'sourceOfHire_Recruiter',\n",
       "       'sourceOfHire_Walk-in', 'jobMode_Contract', 'jobMode_FullTime',\n",
       "       'jobMode_Part Time'], dtype=object)"
      ]
     },
     "execution_count": 10,
     "metadata": {},
     "output_type": "execute_result"
    }
   ],
   "source": [
    "print(\"Schema for encoded format of string features\")\n",
    "featureEncoder.get_feature_names_out(['workAccident', \n",
    "                                      'businessTravel',\n",
    "                                      'department',\n",
    "                                      'gender',\n",
    "                                      'jobRole',\n",
    "                                      'maritalStatus',\n",
    "                                      'overtime',\n",
    "                                      'higherEducation',\n",
    "                                      'statusOfLeaving',\n",
    "                                      'modeOfWork',\n",
    "                                      'sourceOfHire',\n",
    "                                      'jobMode'])"
   ]
  },
  {
   "cell_type": "code",
   "execution_count": 11,
   "id": "LCZcjyF-ONME",
   "metadata": {
    "colab": {
     "base_uri": "https://localhost:8080/"
    },
    "id": "LCZcjyF-ONME",
    "outputId": "05d3a7ce-383c-4ad8-92f3-5b68013088a2"
   },
   "outputs": [
    {
     "name": "stdout",
     "output_type": "stream",
     "text": [
      "[[1. 0. 0. ... 1. 0. 0.]\n",
      " [1. 0. 0. ... 0. 0. 1.]\n",
      " [1. 0. 0. ... 1. 0. 0.]\n",
      " ...\n",
      " [1. 0. 0. ... 0. 0. 1.]\n",
      " [0. 1. 0. ... 0. 0. 1.]\n",
      " [0. 1. 0. ... 0. 1. 0.]]\n"
     ]
    }
   ],
   "source": [
    "finalStringFeatures = featureEncoder.transform(stringFeatures).toarray()\n",
    "print(finalStringFeatures)"
   ]
  },
  {
   "cell_type": "code",
   "execution_count": 12,
   "id": "TcE972kJPFks",
   "metadata": {
    "colab": {
     "base_uri": "https://localhost:8080/"
    },
    "id": "TcE972kJPFks",
    "outputId": "be93efa7-0775-46c4-8a22-bc76c192838d"
   },
   "outputs": [
    {
     "name": "stdout",
     "output_type": "stream",
     "text": [
      "[[ 1. 37.  2. ...  1.  0.  0.]\n",
      " [ 0. 21. 15. ...  0.  0.  1.]\n",
      " [ 0. 45.  6. ...  1.  0.  0.]\n",
      " ...\n",
      " [ 0. 55. 26. ...  0.  0.  1.]\n",
      " [ 0. 58. 10. ...  0.  0.  1.]\n",
      " [ 1. 58. 23. ...  0.  1.  0.]]\n"
     ]
    }
   ],
   "source": [
    "finalData = np.concatenate((scalingFeatures, finalStringFeatures), axis = 1)\n",
    "print(finalData)"
   ]
  },
  {
   "cell_type": "markdown",
   "id": "bj-6AS9EQtkh",
   "metadata": {
    "id": "bj-6AS9EQtkh"
   },
   "source": [
    "# **Schema for the final Data**\n",
    "y(attritionBoolean),\n",
    "\n",
    "x_age, \n",
    "\n",
    "x_distanceFromHome, \n",
    "\n",
    "x_jobInvolvement, \n",
    "\n",
    "x_jobLevel, \n",
    "\n",
    "x_jobSatisfaction, \n",
    "\n",
    "x_monthlyIncome, \n",
    "\n",
    "x_numCompaniesWorked,\n",
    "\n",
    "x_percentSalaryHike, \n",
    "\n",
    "x_performanceRating, \n",
    "\n",
    "x_stockOptionLevel, \n",
    "\n",
    "x_totalWorkingYears, \n",
    "\n",
    "x_trainingTimesLastYear,\n",
    "\n",
    "x_yearsAtCompany, \n",
    "\n",
    "x_yearsSinceLastPromotion, \n",
    "\n",
    "x_yearsWithCurrManager, \n",
    "\n",
    "x_leaves, \n",
    "\n",
    "x_absenteeism\n",
    "\n",
    "Rest of string features encoded\n",
    "\n",
    "\n",
    "\n",
    "****\n",
    "\n",
    "\n",
    "**We now split the data into two parts the first 1000 entries for training and the remaining as test data to test our model's accuracy.**"
   ]
  },
  {
   "cell_type": "code",
   "execution_count": 13,
   "id": "ZtoGsxHkQrg-",
   "metadata": {
    "colab": {
     "base_uri": "https://localhost:8080/"
    },
    "id": "ZtoGsxHkQrg-",
    "outputId": "073d48c1-eaa2-41fe-bb7a-c2cbc6d7ea79"
   },
   "outputs": [],
   "source": [
    "trainData = finalData[:1000]\n",
    "testData = finalData[1000:]\n",
    "\n",
    "train_x = trainData[:,1:]\n",
    "train_y = trainData[:,0]\n",
    "\n",
    "test_x = testData[:,1:]\n",
    "test_y = testData[:,0]"
   ]
  },
  {
   "cell_type": "markdown",
   "id": "1Hu_I5wKXbLQ",
   "metadata": {
    "id": "1Hu_I5wKXbLQ"
   },
   "source": [
    "# **Logistic Regression**"
   ]
  },
  {
   "cell_type": "code",
   "execution_count": 14,
   "id": "TDY9elYdRpdk",
   "metadata": {
    "id": "TDY9elYdRpdk"
   },
   "outputs": [],
   "source": [
    "from sklearn.linear_model import LogisticRegression\n",
    "LR = LogisticRegression(random_state=0, solver='lbfgs', multi_class='ovr', max_iter = 2000).fit(train_x, train_y)"
   ]
  },
  {
   "cell_type": "code",
   "execution_count": 15,
   "id": "aeH8qfDYUklh",
   "metadata": {
    "colab": {
     "base_uri": "https://localhost:8080/"
    },
    "id": "aeH8qfDYUklh",
    "outputId": "bd574776-c9dd-4bcd-d543-ed9895a63290"
   },
   "outputs": [
    {
     "name": "stdout",
     "output_type": "stream",
     "text": [
      "Accuracy on training data: 87.4% \n",
      "Accuracy on last 472 entries of test data: 90.85106400000001% \n"
     ]
    }
   ],
   "source": [
    "print(\"Accuracy on training data: {}% \".format(round(LR.score(train_x,train_y),8)*100))\n",
    "print(\"Accuracy on last 472 entries of test data: {}% \" .format(round(LR.score(test_x,test_y), 8)*100))"
   ]
  },
  {
   "cell_type": "markdown",
   "id": "ORsvmI5Easne",
   "metadata": {
    "id": "ORsvmI5Easne"
   },
   "source": [
    "**Determining AUC for logistic regression**"
   ]
  },
  {
   "cell_type": "code",
   "execution_count": 16,
   "id": "FJRKy3GwZ-hd",
   "metadata": {
    "colab": {
     "base_uri": "https://localhost:8080/",
     "height": 265
    },
    "id": "FJRKy3GwZ-hd",
    "outputId": "202407d1-e966-4bf8-bcec-d995acdcf171"
   },
   "outputs": [
    {
     "data": {
      "image/png": "[encoded data removed]",
      "text/plain": [
       "<Figure size 640x480 with 1 Axes>"
      ]
     },
     "metadata": {},
     "output_type": "display_data"
    }
   ],
   "source": [
    "from sklearn import metrics\n",
    "import matplotlib.pyplot as plt\n",
    "\n",
    "y_pred_proba = LR.predict_proba(test_x)[::,1]\n",
    "fpr, tpr, _ = metrics.roc_curve(test_y,  y_pred_proba)\n",
    "auc = metrics.roc_auc_score(test_y, y_pred_proba)\n",
    "plt.plot(fpr,tpr,label=\"data 1, auc=\"+str(auc))\n",
    "plt.legend(loc=4)\n",
    "plt.show()"
   ]
  },
  {
   "cell_type": "markdown",
   "id": "LkiibTieXg2I",
   "metadata": {
    "id": "LkiibTieXg2I"
   },
   "source": [
    "**Conclusion for logistic regression**\n",
    "\n",
    "\n",
    "We get an accuracy of 87.5% on the training data and 90.85% on the test data through the weights for feature we get through logistic regression. Now let us try other algorithms/models/methods."
   ]
  },
  {
   "cell_type": "markdown",
   "id": "4l51ta17YE_l",
   "metadata": {
    "id": "4l51ta17YE_l"
   },
   "source": [
    "# **Random Forests**"
   ]
  },
  {
   "cell_type": "code",
   "execution_count": 17,
   "id": "4UY_3L9MYKn7",
   "metadata": {
    "colab": {
     "base_uri": "https://localhost:8080/"
    },
    "id": "4UY_3L9MYKn7",
    "outputId": "38a5ad9b-3ea9-4a35-b584-0fd721d97465"
   },
   "outputs": [
    {
     "data": {
      "text/html": [
       "<style>#sk-container-id-1 {color: black;background-color: white;}#sk-container-id-1 pre{padding: 0;}#sk-container-id-1 div.sk-toggleable {background-color: white;}#sk-container-id-1 label.sk-toggleable__label {cursor: pointer;display: block;width: 100%;margin-bottom: 0;padding: 0.3em;box-sizing: border-box;text-align: center;}#sk-container-id-1 label.sk-toggleable__label-arrow:before {content: \"▸\";float: left;margin-right: 0.25em;color: #696969;}#sk-container-id-1 label.sk-toggleable__label-arrow:hover:before {color: black;}#sk-container-id-1 div.sk-estimator:hover label.sk-toggleable__label-arrow:before {color: black;}#sk-container-id-1 div.sk-toggleable__content {max-height: 0;max-width: 0;overflow: hidden;text-align: left;background-color: #f0f8ff;}#sk-container-id-1 div.sk-toggleable__content pre {margin: 0.2em;color: black;border-radius: 0.25em;background-color: #f0f8ff;}#sk-container-id-1 input.sk-toggleable__control:checked~div.sk-toggleable__content {max-height: 200px;max-width: 100%;overflow: auto;}#sk-container-id-1 input.sk-toggleable__control:checked~label.sk-toggleable__label-arrow:before {content: \"▾\";}#sk-container-id-1 div.sk-estimator input.sk-toggleable__control:checked~label.sk-toggleable__label {background-color: #d4ebff;}#sk-container-id-1 div.sk-label input.sk-toggleable__control:checked~label.sk-toggleable__label {background-color: #d4ebff;}#sk-container-id-1 input.sk-hidden--visually {border: 0;clip: rect(1px 1px 1px 1px);clip: rect(1px, 1px, 1px, 1px);height: 1px;margin: -1px;overflow: hidden;padding: 0;position: absolute;width: 1px;}#sk-container-id-1 div.sk-estimator {font-family: monospace;background-color: #f0f8ff;border: 1px dotted black;border-radius: 0.25em;box-sizing: border-box;margin-bottom: 0.5em;}#sk-container-id-1 div.sk-estimator:hover {background-color: #d4ebff;}#sk-container-id-1 div.sk-parallel-item::after {content: \"\";width: 100%;border-bottom: 1px solid gray;flex-grow: 1;}#sk-container-id-1 div.sk-label:hover label.sk-toggleable__label {background-color: #d4ebff;}#sk-container-id-1 div.sk-serial::before {content: \"\";position: absolute;border-left: 1px solid gray;box-sizing: border-box;top: 0;bottom: 0;left: 50%;z-index: 0;}#sk-container-id-1 div.sk-serial {display: flex;flex-direction: column;align-items: center;background-color: white;padding-right: 0.2em;padding-left: 0.2em;position: relative;}#sk-container-id-1 div.sk-item {position: relative;z-index: 1;}#sk-container-id-1 div.sk-parallel {display: flex;align-items: stretch;justify-content: center;background-color: white;position: relative;}#sk-container-id-1 div.sk-item::before, #sk-container-id-1 div.sk-parallel-item::before {content: \"\";position: absolute;border-left: 1px solid gray;box-sizing: border-box;top: 0;bottom: 0;left: 50%;z-index: -1;}#sk-container-id-1 div.sk-parallel-item {display: flex;flex-direction: column;z-index: 1;position: relative;background-color: white;}#sk-container-id-1 div.sk-parallel-item:first-child::after {align-self: flex-end;width: 50%;}#sk-container-id-1 div.sk-parallel-item:last-child::after {align-self: flex-start;width: 50%;}#sk-container-id-1 div.sk-parallel-item:only-child::after {width: 0;}#sk-container-id-1 div.sk-dashed-wrapped {border: 1px dashed gray;margin: 0 0.4em 0.5em 0.4em;box-sizing: border-box;padding-bottom: 0.4em;background-color: white;}#sk-container-id-1 div.sk-label label {font-family: monospace;font-weight: bold;display: inline-block;line-height: 1.2em;}#sk-container-id-1 div.sk-label-container {text-align: center;}#sk-container-id-1 div.sk-container {/* jupyter's `normalize.less` sets `[hidden] { display: none; }` but bootstrap.min.css set `[hidden] { display: none !important; }` so we also need the `!important` here to be able to override the default hidden behavior on the sphinx rendered scikit-learn.org. See: https://github.com/scikit-learn/scikit-learn/issues/21755 */display: inline-block !important;position: relative;}#sk-container-id-1 div.sk-text-repr-fallback {display: none;}</style><div id=\"sk-container-id-1\" class=\"sk-top-container\"><div class=\"sk-text-repr-fallback\"><pre>RandomForestClassifier(max_depth=4, n_estimators=1000, random_state=0)</pre><b>In a Jupyter environment, please rerun this cell to show the HTML representation or trust the notebook. <br />On GitHub, the HTML representation is unable to render, please try loading this page with nbviewer.org.</b></div><div class=\"sk-container\" hidden><div class=\"sk-item\"><div class=\"sk-estimator sk-toggleable\"><input class=\"sk-toggleable__control sk-hidden--visually\" id=\"sk-estimator-id-1\" type=\"checkbox\" checked><label for=\"sk-estimator-id-1\" class=\"sk-toggleable__label sk-toggleable__label-arrow\">RandomForestClassifier</label><div class=\"sk-toggleable__content\"><pre>RandomForestClassifier(max_depth=4, n_estimators=1000, random_state=0)</pre></div></div></div></div></div>"
      ],
      "text/plain": [
       "RandomForestClassifier(max_depth=4, n_estimators=1000, random_state=0)"
      ]
     },
     "execution_count": 17,
     "metadata": {},
     "output_type": "execute_result"
    }
   ],
   "source": [
    "from sklearn.ensemble import RandomForestClassifier\n",
    "\n",
    "RF = RandomForestClassifier(n_estimators=1000, max_depth=4, random_state=0)\n",
    "RF.fit(train_x, train_y)"
   ]
  },
  {
   "cell_type": "code",
   "execution_count": 18,
   "id": "Z8wX4F4-YTMh",
   "metadata": {
    "colab": {
     "base_uri": "https://localhost:8080/"
    },
    "id": "Z8wX4F4-YTMh",
    "outputId": "c847f4b3-c2af-4b97-9319-b6813cc74642"
   },
   "outputs": [
    {
     "name": "stdout",
     "output_type": "stream",
     "text": [
      "Accuracy on training data: 84.0% \n",
      "Accuracy on last 472 entries of test data: 89.361702% \n"
     ]
    }
   ],
   "source": [
    "print(\"Accuracy on training data: {}% \".format(round(RF.score(train_x,train_y),8)*100))\n",
    "print(\"Accuracy on last 472 entries of test data: {}% \" .format(round(RF.score(test_x,test_y), 8)*100))"
   ]
  },
  {
   "cell_type": "markdown",
   "id": "5n6QGok0a2EA",
   "metadata": {
    "id": "5n6QGok0a2EA"
   },
   "source": [
    "**Determining AUC for Random Forest Classifier**"
   ]
  },
  {
   "cell_type": "code",
   "execution_count": 19,
   "id": "2t0fc85mYYTq",
   "metadata": {
    "colab": {
     "base_uri": "https://localhost:8080/",
     "height": 265
    },
    "id": "2t0fc85mYYTq",
    "outputId": "ea958b8d-3237-448b-ff7f-c6f730cb5a5c"
   },
   "outputs": [
    {
     "data": {
      "image/png": "[encoded data removed]",
      "text/plain": [
       "<Figure size 640x480 with 1 Axes>"
      ]
     },
     "metadata": {},
     "output_type": "display_data"
    }
   ],
   "source": [
    "y_pred_proba = RF.predict_proba(test_x)[::,1]\n",
    "fpr, tpr, _ = metrics.roc_curve(test_y,  y_pred_proba)\n",
    "auc = metrics.roc_auc_score(test_y, y_pred_proba)\n",
    "plt.plot(fpr,tpr,label=\"data 1, auc=\"+str(auc))\n",
    "plt.legend(loc=4)\n",
    "plt.show()"
   ]
  },
  {
   "cell_type": "markdown",
   "id": "bFMzUNacYiQ_",
   "metadata": {
    "id": "bFMzUNacYiQ_"
   },
   "source": [
    "# **Neural Networks**"
   ]
  },
  {
   "cell_type": "code",
   "execution_count": 20,
   "id": "TC_9ocMdYlwK",
   "metadata": {
    "colab": {
     "base_uri": "https://localhost:8080/"
    },
    "id": "TC_9ocMdYlwK",
    "outputId": "f261ef75-60cb-4f03-db22-0685890cbe6a"
   },
   "outputs": [
    {
     "data": {
      "text/html": [
       "<style>#sk-container-id-2 {color: black;background-color: white;}#sk-container-id-2 pre{padding: 0;}#sk-container-id-2 div.sk-toggleable {background-color: white;}#sk-container-id-2 label.sk-toggleable__label {cursor: pointer;display: block;width: 100%;margin-bottom: 0;padding: 0.3em;box-sizing: border-box;text-align: center;}#sk-container-id-2 label.sk-toggleable__label-arrow:before {content: \"▸\";float: left;margin-right: 0.25em;color: #696969;}#sk-container-id-2 label.sk-toggleable__label-arrow:hover:before {color: black;}#sk-container-id-2 div.sk-estimator:hover label.sk-toggleable__label-arrow:before {color: black;}#sk-container-id-2 div.sk-toggleable__content {max-height: 0;max-width: 0;overflow: hidden;text-align: left;background-color: #f0f8ff;}#sk-container-id-2 div.sk-toggleable__content pre {margin: 0.2em;color: black;border-radius: 0.25em;background-color: #f0f8ff;}#sk-container-id-2 input.sk-toggleable__control:checked~div.sk-toggleable__content {max-height: 200px;max-width: 100%;overflow: auto;}#sk-container-id-2 input.sk-toggleable__control:checked~label.sk-toggleable__label-arrow:before {content: \"▾\";}#sk-container-id-2 div.sk-estimator input.sk-toggleable__control:checked~label.sk-toggleable__label {background-color: #d4ebff;}#sk-container-id-2 div.sk-label input.sk-toggleable__control:checked~label.sk-toggleable__label {background-color: #d4ebff;}#sk-container-id-2 input.sk-hidden--visually {border: 0;clip: rect(1px 1px 1px 1px);clip: rect(1px, 1px, 1px, 1px);height: 1px;margin: -1px;overflow: hidden;padding: 0;position: absolute;width: 1px;}#sk-container-id-2 div.sk-estimator {font-family: monospace;background-color: #f0f8ff;border: 1px dotted black;border-radius: 0.25em;box-sizing: border-box;margin-bottom: 0.5em;}#sk-container-id-2 div.sk-estimator:hover {background-color: #d4ebff;}#sk-container-id-2 div.sk-parallel-item::after {content: \"\";width: 100%;border-bottom: 1px solid gray;flex-grow: 1;}#sk-container-id-2 div.sk-label:hover label.sk-toggleable__label {background-color: #d4ebff;}#sk-container-id-2 div.sk-serial::before {content: \"\";position: absolute;border-left: 1px solid gray;box-sizing: border-box;top: 0;bottom: 0;left: 50%;z-index: 0;}#sk-container-id-2 div.sk-serial {display: flex;flex-direction: column;align-items: center;background-color: white;padding-right: 0.2em;padding-left: 0.2em;position: relative;}#sk-container-id-2 div.sk-item {position: relative;z-index: 1;}#sk-container-id-2 div.sk-parallel {display: flex;align-items: stretch;justify-content: center;background-color: white;position: relative;}#sk-container-id-2 div.sk-item::before, #sk-container-id-2 div.sk-parallel-item::before {content: \"\";position: absolute;border-left: 1px solid gray;box-sizing: border-box;top: 0;bottom: 0;left: 50%;z-index: -1;}#sk-container-id-2 div.sk-parallel-item {display: flex;flex-direction: column;z-index: 1;position: relative;background-color: white;}#sk-container-id-2 div.sk-parallel-item:first-child::after {align-self: flex-end;width: 50%;}#sk-container-id-2 div.sk-parallel-item:last-child::after {align-self: flex-start;width: 50%;}#sk-container-id-2 div.sk-parallel-item:only-child::after {width: 0;}#sk-container-id-2 div.sk-dashed-wrapped {border: 1px dashed gray;margin: 0 0.4em 0.5em 0.4em;box-sizing: border-box;padding-bottom: 0.4em;background-color: white;}#sk-container-id-2 div.sk-label label {font-family: monospace;font-weight: bold;display: inline-block;line-height: 1.2em;}#sk-container-id-2 div.sk-label-container {text-align: center;}#sk-container-id-2 div.sk-container {/* jupyter's `normalize.less` sets `[hidden] { display: none; }` but bootstrap.min.css set `[hidden] { display: none !important; }` so we also need the `!important` here to be able to override the default hidden behavior on the sphinx rendered scikit-learn.org. See: https://github.com/scikit-learn/scikit-learn/issues/21755 */display: inline-block !important;position: relative;}#sk-container-id-2 div.sk-text-repr-fallback {display: none;}</style><div id=\"sk-container-id-2\" class=\"sk-top-container\"><div class=\"sk-text-repr-fallback\"><pre>MLPClassifier(alpha=1e-05, hidden_layer_sizes=(30, 30, 30, 30), max_iter=100000,\n",
       "              random_state=1, solver=&#x27;lbfgs&#x27;)</pre><b>In a Jupyter environment, please rerun this cell to show the HTML representation or trust the notebook. <br />On GitHub, the HTML representation is unable to render, please try loading this page with nbviewer.org.</b></div><div class=\"sk-container\" hidden><div class=\"sk-item\"><div class=\"sk-estimator sk-toggleable\"><input class=\"sk-toggleable__control sk-hidden--visually\" id=\"sk-estimator-id-2\" type=\"checkbox\" checked><label for=\"sk-estimator-id-2\" class=\"sk-toggleable__label sk-toggleable__label-arrow\">MLPClassifier</label><div class=\"sk-toggleable__content\"><pre>MLPClassifier(alpha=1e-05, hidden_layer_sizes=(30, 30, 30, 30), max_iter=100000,\n",
       "              random_state=1, solver=&#x27;lbfgs&#x27;)</pre></div></div></div></div></div>"
      ],
      "text/plain": [
       "MLPClassifier(alpha=1e-05, hidden_layer_sizes=(30, 30, 30, 30), max_iter=100000,\n",
       "              random_state=1, solver='lbfgs')"
      ]
     },
     "execution_count": 20,
     "metadata": {},
     "output_type": "execute_result"
    }
   ],
   "source": [
    "from sklearn.neural_network import MLPClassifier\n",
    "\n",
    "NN = MLPClassifier(solver='lbfgs', alpha=0.00001, hidden_layer_sizes=(30,30,30,30), random_state=1, max_iter = 100000)\n",
    "NN.fit(train_x, train_y)"
   ]
  },
  {
   "cell_type": "code",
   "execution_count": 21,
   "id": "35aR72FbYtAx",
   "metadata": {
    "colab": {
     "base_uri": "https://localhost:8080/"
    },
    "id": "35aR72FbYtAx",
    "outputId": "52c17b87-0767-4586-bbae-41e581cf57d5"
   },
   "outputs": [
    {
     "name": "stdout",
     "output_type": "stream",
     "text": [
      "Accuracy on training data: 86.5% \n",
      "Accuracy on last 472 entries of test data: 90.63829799999999% \n"
     ]
    }
   ],
   "source": [
    "print(\"Accuracy on training data: {}% \".format(round(NN.score(train_x,train_y),8)*100))\n",
    "print(\"Accuracy on last 472 entries of test data: {}% \" .format(round(NN.score(test_x,test_y), 8)*100))"
   ]
  },
  {
   "cell_type": "markdown",
   "id": "fgGrcGNEcRUp",
   "metadata": {
    "id": "fgGrcGNEcRUp"
   },
   "source": [
    "**Determining AUC for Neural Networks**"
   ]
  },
  {
   "cell_type": "code",
   "execution_count": 22,
   "id": "Zpv5GAvYcNzd",
   "metadata": {
    "colab": {
     "base_uri": "https://localhost:8080/",
     "height": 265
    },
    "id": "Zpv5GAvYcNzd",
    "outputId": "9c3bf45a-8324-4283-b2b1-3952c5ce2d1f"
   },
   "outputs": [
    {
     "data": {
      "image/png": "[encoded data removed]",
      "text/plain": [
       "<Figure size 640x480 with 1 Axes>"
      ]
     },
     "metadata": {},
     "output_type": "display_data"
    }
   ],
   "source": [
    "y_pred_proba = NN.predict_proba(test_x)[::,1]\n",
    "fpr, tpr, _ = metrics.roc_curve(test_y,  y_pred_proba)\n",
    "auc = metrics.roc_auc_score(test_y, y_pred_proba)\n",
    "plt.plot(fpr,tpr,label=\"data 1, auc=\"+str(auc))\n",
    "plt.legend(loc=4)\n",
    "plt.show()"
   ]
  },
  {
   "cell_type": "markdown",
   "id": "MrINeuM3dQFI",
   "metadata": {
    "id": "MrINeuM3dQFI",
    "tags": []
   },
   "source": [
    "# **Conclusion**\n",
    "\n",
    "Although the implementations of these models were rather naive (in practice there are a variety of parameters that can and should be varied for each model), we can still compare the predictive accuracy across the models. This will tell us which one is the most accurate for this specific training and test dataset:\n",
    "\n",
    "**Model Details**\n",
    "\n",
    "Logistic Regression\n",
    "\n",
    "*   Accuracy on training data: 87.4% \n",
    "*   Accuracy on test data: 90.85106400000001% \n",
    "*   AUC: 0.704\n",
    "\n",
    "Random Forest Classifier\n",
    "\n",
    "*   Accuracy on training data: 84.0% \n",
    "*   Accuracy on test data: 89.361702% \n",
    "*   AUC: 0.68209\n",
    "\n",
    "Neural Network(Layers - 30,30,30,30)\n",
    "*   Accuracy on training data: 86.5% \n",
    "*   Accuracy on test data: 90.63829799999999%\n",
    "*   AUC: 0.6822"
   ]
  },
  {
   "cell_type": "markdown",
   "id": "82e362b0-bfd3-479e-b176-4a03e4c1cae2",
   "metadata": {
    "tags": []
   },
   "source": [
    "# **Normalizing all features using Z-score normalization**"
   ]
  },
  {
   "cell_type": "code",
   "execution_count": 23,
   "id": "b54dff8b-8740-4c4d-bfc7-bbf17ac29a4a",
   "metadata": {},
   "outputs": [
    {
     "name": "stdout",
     "output_type": "stream",
     "text": [
      "[[0.02537137 0.00425664 0.0184908  ... 0.04554875 0.         0.        ]\n",
      " [0.01439997 0.03192479 0.0277362  ... 0.         0.         0.04607757]\n",
      " [0.03085707 0.01276992 0.0277362  ... 0.04554875 0.         0.        ]\n",
      " ...\n",
      " [0.0377142  0.05533631 0.0184908  ... 0.         0.         0.04607757]\n",
      " [0.03977134 0.0212832  0.0277362  ... 0.         0.         0.04607757]\n",
      " [0.03977134 0.04895135 0.0277362  ... 0.         0.04397995 0.        ]]\n",
      "[[1.         0.02537137 0.00425664 ... 0.04554875 0.         0.        ]\n",
      " [0.         0.01439997 0.03192479 ... 0.         0.         0.04607757]\n",
      " [0.         0.03085707 0.01276992 ... 0.04554875 0.         0.        ]\n",
      " ...\n",
      " [0.         0.0377142  0.05533631 ... 0.         0.         0.04607757]\n",
      " [0.         0.03977134 0.0212832  ... 0.         0.         0.04607757]\n",
      " [1.         0.03977134 0.04895135 ... 0.         0.04397995 0.        ]]\n"
     ]
    }
   ],
   "source": [
    "from sklearn import preprocessing\n",
    "\n",
    "normalizedFeatures = preprocessing.normalize(finalData[:,1:],axis = 0)\n",
    "print(normalizedFeatures)\n",
    "finalData = np.concatenate((finalData[:,[0]],normalizedFeatures),axis=1)\n",
    "print(finalData)"
   ]
  },
  {
   "cell_type": "code",
   "execution_count": 24,
   "id": "ac4d6412-f87a-48a1-a8ae-e24478e3e244",
   "metadata": {},
   "outputs": [],
   "source": [
    "trainData = finalData[:1000]\n",
    "testData = finalData[1000:]\n",
    "\n",
    "train_x = trainData[:,1:]\n",
    "train_y = trainData[:,0]\n",
    "\n",
    "test_x = testData[:,1:]\n",
    "test_y = testData[:,0]"
   ]
  },
  {
   "cell_type": "markdown",
   "id": "53691085-670d-4119-b0bc-c5c860a0f15d",
   "metadata": {},
   "source": [
    "# Fitting post normalization"
   ]
  },
  {
   "cell_type": "markdown",
   "id": "d0501114-ef6a-4b5c-91ed-91a570376060",
   "metadata": {},
   "source": [
    "## **Logistic regression(after normalization)**"
   ]
  },
  {
   "cell_type": "code",
   "execution_count": 25,
   "id": "73005cdc-8142-4c24-bd9f-17ece2091494",
   "metadata": {},
   "outputs": [
    {
     "name": "stdout",
     "output_type": "stream",
     "text": [
      "Accuracy on training data: 81.3% \n",
      "Accuracy on last 472 entries of test data: 89.361702% \n"
     ]
    }
   ],
   "source": [
    "LR = LogisticRegression(random_state=0, solver='lbfgs', multi_class='ovr', max_iter = 2000).fit(train_x, train_y)\n",
    "print(\"Accuracy on training data: {}% \".format(round(LR.score(train_x,train_y),8)*100))\n",
    "print(\"Accuracy on last 472 entries of test data: {}% \" .format(round(LR.score(test_x,test_y), 8)*100))"
   ]
  },
  {
   "cell_type": "markdown",
   "id": "135e8618-d5c4-4fa3-b6e3-2a867bc1763b",
   "metadata": {
    "id": "ORsvmI5Easne"
   },
   "source": [
    "**Determining AUC for logistic regression**"
   ]
  },
  {
   "cell_type": "code",
   "execution_count": 26,
   "id": "d258ba68-55b1-4a48-9692-3971ec613d2e",
   "metadata": {
    "colab": {
     "base_uri": "https://localhost:8080/",
     "height": 265
    },
    "id": "FJRKy3GwZ-hd",
    "outputId": "202407d1-e966-4bf8-bcec-d995acdcf171"
   },
   "outputs": [
    {
     "data": {
      "image/png": "[encoded data removed]",
      "text/plain": [
       "<Figure size 640x480 with 1 Axes>"
      ]
     },
     "metadata": {},
     "output_type": "display_data"
    }
   ],
   "source": [
    "from sklearn import metrics\n",
    "import matplotlib.pyplot as plt\n",
    "\n",
    "y_pred_proba = LR.predict_proba(test_x)[::,1]\n",
    "fpr, tpr, _ = metrics.roc_curve(test_y,  y_pred_proba)\n",
    "auc = metrics.roc_auc_score(test_y, y_pred_proba)\n",
    "plt.plot(fpr,tpr,label=\"data 1, auc=\"+str(auc))\n",
    "plt.legend(loc=4)\n",
    "plt.show()"
   ]
  },
  {
   "cell_type": "markdown",
   "id": "32802238-0779-4626-a192-74ac505adbb9",
   "metadata": {},
   "source": [
    "## **Random Forest Classifier(after normalization)**"
   ]
  },
  {
   "cell_type": "code",
   "execution_count": 27,
   "id": "6df12ac5-95c1-4003-ba68-31c85c3defc6",
   "metadata": {
    "colab": {
     "base_uri": "https://localhost:8080/"
    },
    "id": "4UY_3L9MYKn7",
    "outputId": "38a5ad9b-3ea9-4a35-b584-0fd721d97465"
   },
   "outputs": [
    {
     "data": {
      "text/html": [
       "<style>#sk-container-id-3 {color: black;background-color: white;}#sk-container-id-3 pre{padding: 0;}#sk-container-id-3 div.sk-toggleable {background-color: white;}#sk-container-id-3 label.sk-toggleable__label {cursor: pointer;display: block;width: 100%;margin-bottom: 0;padding: 0.3em;box-sizing: border-box;text-align: center;}#sk-container-id-3 label.sk-toggleable__label-arrow:before {content: \"▸\";float: left;margin-right: 0.25em;color: #696969;}#sk-container-id-3 label.sk-toggleable__label-arrow:hover:before {color: black;}#sk-container-id-3 div.sk-estimator:hover label.sk-toggleable__label-arrow:before {color: black;}#sk-container-id-3 div.sk-toggleable__content {max-height: 0;max-width: 0;overflow: hidden;text-align: left;background-color: #f0f8ff;}#sk-container-id-3 div.sk-toggleable__content pre {margin: 0.2em;color: black;border-radius: 0.25em;background-color: #f0f8ff;}#sk-container-id-3 input.sk-toggleable__control:checked~div.sk-toggleable__content {max-height: 200px;max-width: 100%;overflow: auto;}#sk-container-id-3 input.sk-toggleable__control:checked~label.sk-toggleable__label-arrow:before {content: \"▾\";}#sk-container-id-3 div.sk-estimator input.sk-toggleable__control:checked~label.sk-toggleable__label {background-color: #d4ebff;}#sk-container-id-3 div.sk-label input.sk-toggleable__control:checked~label.sk-toggleable__label {background-color: #d4ebff;}#sk-container-id-3 input.sk-hidden--visually {border: 0;clip: rect(1px 1px 1px 1px);clip: rect(1px, 1px, 1px, 1px);height: 1px;margin: -1px;overflow: hidden;padding: 0;position: absolute;width: 1px;}#sk-container-id-3 div.sk-estimator {font-family: monospace;background-color: #f0f8ff;border: 1px dotted black;border-radius: 0.25em;box-sizing: border-box;margin-bottom: 0.5em;}#sk-container-id-3 div.sk-estimator:hover {background-color: #d4ebff;}#sk-container-id-3 div.sk-parallel-item::after {content: \"\";width: 100%;border-bottom: 1px solid gray;flex-grow: 1;}#sk-container-id-3 div.sk-label:hover label.sk-toggleable__label {background-color: #d4ebff;}#sk-container-id-3 div.sk-serial::before {content: \"\";position: absolute;border-left: 1px solid gray;box-sizing: border-box;top: 0;bottom: 0;left: 50%;z-index: 0;}#sk-container-id-3 div.sk-serial {display: flex;flex-direction: column;align-items: center;background-color: white;padding-right: 0.2em;padding-left: 0.2em;position: relative;}#sk-container-id-3 div.sk-item {position: relative;z-index: 1;}#sk-container-id-3 div.sk-parallel {display: flex;align-items: stretch;justify-content: center;background-color: white;position: relative;}#sk-container-id-3 div.sk-item::before, #sk-container-id-3 div.sk-parallel-item::before {content: \"\";position: absolute;border-left: 1px solid gray;box-sizing: border-box;top: 0;bottom: 0;left: 50%;z-index: -1;}#sk-container-id-3 div.sk-parallel-item {display: flex;flex-direction: column;z-index: 1;position: relative;background-color: white;}#sk-container-id-3 div.sk-parallel-item:first-child::after {align-self: flex-end;width: 50%;}#sk-container-id-3 div.sk-parallel-item:last-child::after {align-self: flex-start;width: 50%;}#sk-container-id-3 div.sk-parallel-item:only-child::after {width: 0;}#sk-container-id-3 div.sk-dashed-wrapped {border: 1px dashed gray;margin: 0 0.4em 0.5em 0.4em;box-sizing: border-box;padding-bottom: 0.4em;background-color: white;}#sk-container-id-3 div.sk-label label {font-family: monospace;font-weight: bold;display: inline-block;line-height: 1.2em;}#sk-container-id-3 div.sk-label-container {text-align: center;}#sk-container-id-3 div.sk-container {/* jupyter's `normalize.less` sets `[hidden] { display: none; }` but bootstrap.min.css set `[hidden] { display: none !important; }` so we also need the `!important` here to be able to override the default hidden behavior on the sphinx rendered scikit-learn.org. See: https://github.com/scikit-learn/scikit-learn/issues/21755 */display: inline-block !important;position: relative;}#sk-container-id-3 div.sk-text-repr-fallback {display: none;}</style><div id=\"sk-container-id-3\" class=\"sk-top-container\"><div class=\"sk-text-repr-fallback\"><pre>RandomForestClassifier(max_depth=4, n_estimators=1000, random_state=0)</pre><b>In a Jupyter environment, please rerun this cell to show the HTML representation or trust the notebook. <br />On GitHub, the HTML representation is unable to render, please try loading this page with nbviewer.org.</b></div><div class=\"sk-container\" hidden><div class=\"sk-item\"><div class=\"sk-estimator sk-toggleable\"><input class=\"sk-toggleable__control sk-hidden--visually\" id=\"sk-estimator-id-3\" type=\"checkbox\" checked><label for=\"sk-estimator-id-3\" class=\"sk-toggleable__label sk-toggleable__label-arrow\">RandomForestClassifier</label><div class=\"sk-toggleable__content\"><pre>RandomForestClassifier(max_depth=4, n_estimators=1000, random_state=0)</pre></div></div></div></div></div>"
      ],
      "text/plain": [
       "RandomForestClassifier(max_depth=4, n_estimators=1000, random_state=0)"
      ]
     },
     "execution_count": 27,
     "metadata": {},
     "output_type": "execute_result"
    }
   ],
   "source": [
    "RF = RandomForestClassifier(n_estimators=1000, max_depth=4, random_state=0)\n",
    "RF.fit(train_x, train_y)"
   ]
  },
  {
   "cell_type": "code",
   "execution_count": 28,
   "id": "4c4b4c64-97d5-4d75-b95e-132e3116b933",
   "metadata": {
    "colab": {
     "base_uri": "https://localhost:8080/"
    },
    "id": "Z8wX4F4-YTMh",
    "outputId": "c847f4b3-c2af-4b97-9319-b6813cc74642"
   },
   "outputs": [
    {
     "name": "stdout",
     "output_type": "stream",
     "text": [
      "Accuracy on training data: 84.0% \n",
      "Accuracy on last 472 entries of test data: 89.361702% \n"
     ]
    }
   ],
   "source": [
    "print(\"Accuracy on training data: {}% \".format(round(RF.score(train_x,train_y),8)*100))\n",
    "print(\"Accuracy on last 472 entries of test data: {}% \" .format(round(RF.score(test_x,test_y), 8)*100))"
   ]
  },
  {
   "cell_type": "markdown",
   "id": "be4be11b-af36-4bc3-a6a5-7564176d5442",
   "metadata": {
    "id": "5n6QGok0a2EA"
   },
   "source": [
    "**Determining AUC for Random Forest Classifer**"
   ]
  },
  {
   "cell_type": "code",
   "execution_count": 29,
   "id": "1fdd64d1-e8b3-4352-9b00-5fe3038bd082",
   "metadata": {
    "colab": {
     "base_uri": "https://localhost:8080/",
     "height": 265
    },
    "id": "2t0fc85mYYTq",
    "outputId": "ea958b8d-3237-448b-ff7f-c6f730cb5a5c"
   },
   "outputs": [
    {
     "data": {
      "image/png": "[encoded data removed]",
      "text/plain": [
       "<Figure size 640x480 with 1 Axes>"
      ]
     },
     "metadata": {},
     "output_type": "display_data"
    }
   ],
   "source": [
    "y_pred_proba = RF.predict_proba(test_x)[::,1]\n",
    "fpr, tpr, _ = metrics.roc_curve(test_y,  y_pred_proba)\n",
    "auc = metrics.roc_auc_score(test_y, y_pred_proba)\n",
    "plt.plot(fpr,tpr,label=\"data 1, auc=\"+str(auc))\n",
    "plt.legend(loc=4)\n",
    "plt.show()"
   ]
  },
  {
   "cell_type": "markdown",
   "id": "7aa6c1f3-3912-4c40-b839-8c03a540c545",
   "metadata": {},
   "source": [
    "**Conclusion for RF classifier**\n",
    "\n",
    "It is seen that normalization of data has no effect on the output of Random Forest Classifier. This is also the case for all datasets.\n"
   ]
  },
  {
   "cell_type": "markdown",
   "id": "228414ab-6625-476f-afcb-1655c94a5831",
   "metadata": {},
   "source": [
    "## **Neural Network(after normalization)**"
   ]
  },
  {
   "cell_type": "code",
   "execution_count": 30,
   "id": "61284d9b-8f5e-4e28-ac92-ba1bdb6fddca",
   "metadata": {
    "colab": {
     "base_uri": "https://localhost:8080/"
    },
    "id": "TC_9ocMdYlwK",
    "outputId": "f261ef75-60cb-4f03-db22-0685890cbe6a"
   },
   "outputs": [
    {
     "data": {
      "text/html": [
       "<style>#sk-container-id-4 {color: black;background-color: white;}#sk-container-id-4 pre{padding: 0;}#sk-container-id-4 div.sk-toggleable {background-color: white;}#sk-container-id-4 label.sk-toggleable__label {cursor: pointer;display: block;width: 100%;margin-bottom: 0;padding: 0.3em;box-sizing: border-box;text-align: center;}#sk-container-id-4 label.sk-toggleable__label-arrow:before {content: \"▸\";float: left;margin-right: 0.25em;color: #696969;}#sk-container-id-4 label.sk-toggleable__label-arrow:hover:before {color: black;}#sk-container-id-4 div.sk-estimator:hover label.sk-toggleable__label-arrow:before {color: black;}#sk-container-id-4 div.sk-toggleable__content {max-height: 0;max-width: 0;overflow: hidden;text-align: left;background-color: #f0f8ff;}#sk-container-id-4 div.sk-toggleable__content pre {margin: 0.2em;color: black;border-radius: 0.25em;background-color: #f0f8ff;}#sk-container-id-4 input.sk-toggleable__control:checked~div.sk-toggleable__content {max-height: 200px;max-width: 100%;overflow: auto;}#sk-container-id-4 input.sk-toggleable__control:checked~label.sk-toggleable__label-arrow:before {content: \"▾\";}#sk-container-id-4 div.sk-estimator input.sk-toggleable__control:checked~label.sk-toggleable__label {background-color: #d4ebff;}#sk-container-id-4 div.sk-label input.sk-toggleable__control:checked~label.sk-toggleable__label {background-color: #d4ebff;}#sk-container-id-4 input.sk-hidden--visually {border: 0;clip: rect(1px 1px 1px 1px);clip: rect(1px, 1px, 1px, 1px);height: 1px;margin: -1px;overflow: hidden;padding: 0;position: absolute;width: 1px;}#sk-container-id-4 div.sk-estimator {font-family: monospace;background-color: #f0f8ff;border: 1px dotted black;border-radius: 0.25em;box-sizing: border-box;margin-bottom: 0.5em;}#sk-container-id-4 div.sk-estimator:hover {background-color: #d4ebff;}#sk-container-id-4 div.sk-parallel-item::after {content: \"\";width: 100%;border-bottom: 1px solid gray;flex-grow: 1;}#sk-container-id-4 div.sk-label:hover label.sk-toggleable__label {background-color: #d4ebff;}#sk-container-id-4 div.sk-serial::before {content: \"\";position: absolute;border-left: 1px solid gray;box-sizing: border-box;top: 0;bottom: 0;left: 50%;z-index: 0;}#sk-container-id-4 div.sk-serial {display: flex;flex-direction: column;align-items: center;background-color: white;padding-right: 0.2em;padding-left: 0.2em;position: relative;}#sk-container-id-4 div.sk-item {position: relative;z-index: 1;}#sk-container-id-4 div.sk-parallel {display: flex;align-items: stretch;justify-content: center;background-color: white;position: relative;}#sk-container-id-4 div.sk-item::before, #sk-container-id-4 div.sk-parallel-item::before {content: \"\";position: absolute;border-left: 1px solid gray;box-sizing: border-box;top: 0;bottom: 0;left: 50%;z-index: -1;}#sk-container-id-4 div.sk-parallel-item {display: flex;flex-direction: column;z-index: 1;position: relative;background-color: white;}#sk-container-id-4 div.sk-parallel-item:first-child::after {align-self: flex-end;width: 50%;}#sk-container-id-4 div.sk-parallel-item:last-child::after {align-self: flex-start;width: 50%;}#sk-container-id-4 div.sk-parallel-item:only-child::after {width: 0;}#sk-container-id-4 div.sk-dashed-wrapped {border: 1px dashed gray;margin: 0 0.4em 0.5em 0.4em;box-sizing: border-box;padding-bottom: 0.4em;background-color: white;}#sk-container-id-4 div.sk-label label {font-family: monospace;font-weight: bold;display: inline-block;line-height: 1.2em;}#sk-container-id-4 div.sk-label-container {text-align: center;}#sk-container-id-4 div.sk-container {/* jupyter's `normalize.less` sets `[hidden] { display: none; }` but bootstrap.min.css set `[hidden] { display: none !important; }` so we also need the `!important` here to be able to override the default hidden behavior on the sphinx rendered scikit-learn.org. See: https://github.com/scikit-learn/scikit-learn/issues/21755 */display: inline-block !important;position: relative;}#sk-container-id-4 div.sk-text-repr-fallback {display: none;}</style><div id=\"sk-container-id-4\" class=\"sk-top-container\"><div class=\"sk-text-repr-fallback\"><pre>MLPClassifier(alpha=1e-05, hidden_layer_sizes=(30, 30, 30, 30), max_iter=100000,\n",
       "              random_state=1, solver=&#x27;lbfgs&#x27;)</pre><b>In a Jupyter environment, please rerun this cell to show the HTML representation or trust the notebook. <br />On GitHub, the HTML representation is unable to render, please try loading this page with nbviewer.org.</b></div><div class=\"sk-container\" hidden><div class=\"sk-item\"><div class=\"sk-estimator sk-toggleable\"><input class=\"sk-toggleable__control sk-hidden--visually\" id=\"sk-estimator-id-4\" type=\"checkbox\" checked><label for=\"sk-estimator-id-4\" class=\"sk-toggleable__label sk-toggleable__label-arrow\">MLPClassifier</label><div class=\"sk-toggleable__content\"><pre>MLPClassifier(alpha=1e-05, hidden_layer_sizes=(30, 30, 30, 30), max_iter=100000,\n",
       "              random_state=1, solver=&#x27;lbfgs&#x27;)</pre></div></div></div></div></div>"
      ],
      "text/plain": [
       "MLPClassifier(alpha=1e-05, hidden_layer_sizes=(30, 30, 30, 30), max_iter=100000,\n",
       "              random_state=1, solver='lbfgs')"
      ]
     },
     "execution_count": 30,
     "metadata": {},
     "output_type": "execute_result"
    }
   ],
   "source": [
    "NN = MLPClassifier(solver='lbfgs', alpha=0.00001, hidden_layer_sizes=(30,30,30,30), random_state=1, max_iter = 100000)\n",
    "NN.fit(train_x, train_y)"
   ]
  },
  {
   "cell_type": "code",
   "execution_count": 31,
   "id": "198d1cbf-0eb3-4295-91d0-cdd8d85ed370",
   "metadata": {
    "colab": {
     "base_uri": "https://localhost:8080/"
    },
    "id": "35aR72FbYtAx",
    "outputId": "52c17b87-0767-4586-bbae-41e581cf57d5"
   },
   "outputs": [
    {
     "name": "stdout",
     "output_type": "stream",
     "text": [
      "Accuracy on training data: 91.9% \n",
      "Accuracy on last 472 entries of test data: 90.63829799999999% \n"
     ]
    }
   ],
   "source": [
    "print(\"Accuracy on training data: {}% \".format(round(NN.score(train_x,train_y),8)*100))\n",
    "print(\"Accuracy on last 472 entries of test data: {}% \" .format(round(NN.score(test_x,test_y), 8)*100))"
   ]
  },
  {
   "cell_type": "markdown",
   "id": "6a33a30a-299c-42a2-ac3a-419517979b85",
   "metadata": {
    "id": "fgGrcGNEcRUp"
   },
   "source": [
    "**Determining AUC for Neural Networks**"
   ]
  },
  {
   "cell_type": "code",
   "execution_count": 32,
   "id": "4f1f13f4-5802-46e5-a800-27e61559022d",
   "metadata": {
    "colab": {
     "base_uri": "https://localhost:8080/",
     "height": 265
    },
    "id": "Zpv5GAvYcNzd",
    "outputId": "9c3bf45a-8324-4283-b2b1-3952c5ce2d1f"
   },
   "outputs": [
    {
     "data": {
      "image/png": "[encoded data removed]",
      "text/plain": [
       "<Figure size 640x480 with 1 Axes>"
      ]
     },
     "metadata": {},
     "output_type": "display_data"
    }
   ],
   "source": [
    "y_pred_proba = NN.predict_proba(test_x)[::,1]\n",
    "fpr, tpr, _ = metrics.roc_curve(test_y,  y_pred_proba)\n",
    "auc = metrics.roc_auc_score(test_y, y_pred_proba)\n",
    "plt.plot(fpr,tpr,label=\"data 1, auc=\"+str(auc))\n",
    "plt.legend(loc=4)\n",
    "plt.show()"
   ]
  },
  {
   "cell_type": "markdown",
   "id": "a9ee4396-f717-4bf4-b149-339575c43b10",
   "metadata": {
    "id": "MrINeuM3dQFI",
    "tags": []
   },
   "source": [
    "# **Changes after feature normalization**\n",
    "\n",
    "We can observe some changes in the performance of different models when they're used post normalization. The greatest change is observed in the neural network where it improves its AUC and accuracy on the training data by a small amount. The logistic regression model decreases in performance whereas there is no effect on the RF classifier.\n",
    "\n",
    "**Model Details after normalization**\n",
    "\n",
    "Logistic Regression\n",
    "\n",
    "*   Accuracy on training data: 81.3% \n",
    "*   Accuracy on test data: 89.36% \n",
    "*   AUC: 0.66\n",
    "\n",
    "Random Forest Classifier\n",
    "\n",
    "*   Accuracy on training data: 84.0% \n",
    "*   Accuracy on test data: 89.361702% \n",
    "*   AUC: 0.68209\n",
    "\n",
    "Neural Network(Layers - 30,30,30,30)\n",
    "*   Accuracy on training data: 91.9% \n",
    "*   Accuracy on test data: 90.63829799999999%\n",
    "*   AUC: 0.7242"
   ]
  }
 ],
 "metadata": {
  "colab": {
   "provenance": []
  },
  "gpuClass": "standard",
  "kernelspec": {
   "display_name": "Python [conda env:machine_learning_2]",
   "language": "python",
   "name": "conda-env-machine_learning_2-py"
  },
  "language_info": {
   "codemirror_mode": {
    "name": "ipython",
    "version": 3
   },
   "file_extension": ".py",
   "mimetype": "text/x-python",
   "name": "python",
   "nbconvert_exporter": "python",
   "pygments_lexer": "ipython3",
   "version": "3.10.4"
  }
 },
 "nbformat": 4,
 "nbformat_minor": 5
}
