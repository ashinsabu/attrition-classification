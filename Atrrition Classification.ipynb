{
  "cells": [
    {
      "cell_type": "code",
      "execution_count": 2,
      "id": "8fc5c26d-64c5-416c-a151-013324dc049a",
      "metadata": {
        "id": "8fc5c26d-64c5-416c-a151-013324dc049a"
      },
      "outputs": [],
      "source": [
        "import os\n",
        "import numpy as np\n",
        "from matplotlib import pyplot\n",
        "import pandas as pd\n",
        "from sklearn.preprocessing import OneHotEncoder\n",
        "%matplotlib inline"
      ]
    },
    {
      "cell_type": "code",
      "source": [
        "from google.colab import drive\n",
        "drive.mount('/content/drive')"
      ],
      "metadata": {
        "id": "_d4EbSC9ATAf",
        "outputId": "03bde3ae-523a-421a-debd-aa197d26d124",
        "colab": {
          "base_uri": "https://localhost:8080/"
        }
      },
      "id": "_d4EbSC9ATAf",
      "execution_count": 1,
      "outputs": [
        {
          "output_type": "stream",
          "name": "stdout",
          "text": [
            "Mounted at /content/drive\n"
          ]
        }
      ]
    },
    {
      "cell_type": "code",
      "execution_count": 4,
      "id": "712ae5c7-7ec7-42e5-9a2b-5614978b8b75",
      "metadata": {
        "id": "712ae5c7-7ec7-42e5-9a2b-5614978b8b75",
        "outputId": "5b1faa85-2dba-4872-ee43-236db6440ae9",
        "colab": {
          "base_uri": "https://localhost:8080/",
          "height": 332
        }
      },
      "outputs": [
        {
          "output_type": "execute_result",
          "data": {
            "text/plain": [
              "   Age Attrition BusinessTravel              Department  DistanceFromHome  \\\n",
              "0   37       Yes  Travel_Rarely  Research & Development                 2   \n",
              "1   21        No  Travel_Rarely  Research & Development                15   \n",
              "2   45        No  Travel_Rarely  Research & Development                 6   \n",
              "3   23        No  Travel_Rarely                   Sales                 2   \n",
              "4   22        No  Travel_Rarely  Research & Development                15   \n",
              "\n",
              "   Gender  JobInvolvement  JobLevel                JobRole  JobSatisfaction  \\\n",
              "0    Male               2         1  Laboratory Technician                3   \n",
              "1    Male               3         1     Research Scientist                4   \n",
              "2    Male               3         3      Research Director                1   \n",
              "3    Male               3         1   Sales Representative                1   \n",
              "4  Female               3         1  Laboratory Technician                4   \n",
              "\n",
              "   ... Higher_Education  Date_of_Hire  Date_of_termination  \\\n",
              "0  ...       Graduation    2021-01-21                  NaN   \n",
              "1  ...       Graduation    2021-03-13                  NaN   \n",
              "2  ...  Post-Graduation    2021-01-23                  NaN   \n",
              "3  ...              PHD    2021-04-25                  NaN   \n",
              "4  ...              PHD    2021-06-14                  NaN   \n",
              "\n",
              "    Status_of_leaving  Mode_of_work  Leaves  Absenteeism  Work_accident  \\\n",
              "0              Salary        OFFICE       4            2             No   \n",
              "1       Work Accident           WFH       5            2             No   \n",
              "2           Dept.Head           WFH       1            3             No   \n",
              "3       Work Accident        OFFICE       1            0            Yes   \n",
              "4  Better Opportunity           WFH       5            2             No   \n",
              "\n",
              "   Source_of_Hire   Job_mode  \n",
              "0       Job Event   Contract  \n",
              "1       Recruiter  Part Time  \n",
              "2       Job Event   Contract  \n",
              "3       Recruiter   FullTime  \n",
              "4       Job Event   Contract  \n",
              "\n",
              "[5 rows x 32 columns]"
            ],
            "text/html": [
              "\n",
              "  <div id=\"df-36a0cc0a-ed2c-4397-8fb5-3cb62c57c8ae\">\n",
              "    <div class=\"colab-df-container\">\n",
              "      <div>\n",
              "<style scoped>\n",
              "    .dataframe tbody tr th:only-of-type {\n",
              "        vertical-align: middle;\n",
              "    }\n",
              "\n",
              "    .dataframe tbody tr th {\n",
              "        vertical-align: top;\n",
              "    }\n",
              "\n",
              "    .dataframe thead th {\n",
              "        text-align: right;\n",
              "    }\n",
              "</style>\n",
              "<table border=\"1\" class=\"dataframe\">\n",
              "  <thead>\n",
              "    <tr style=\"text-align: right;\">\n",
              "      <th></th>\n",
              "      <th>Age</th>\n",
              "      <th>Attrition</th>\n",
              "      <th>BusinessTravel</th>\n",
              "      <th>Department</th>\n",
              "      <th>DistanceFromHome</th>\n",
              "      <th>Gender</th>\n",
              "      <th>JobInvolvement</th>\n",
              "      <th>JobLevel</th>\n",
              "      <th>JobRole</th>\n",
              "      <th>JobSatisfaction</th>\n",
              "      <th>...</th>\n",
              "      <th>Higher_Education</th>\n",
              "      <th>Date_of_Hire</th>\n",
              "      <th>Date_of_termination</th>\n",
              "      <th>Status_of_leaving</th>\n",
              "      <th>Mode_of_work</th>\n",
              "      <th>Leaves</th>\n",
              "      <th>Absenteeism</th>\n",
              "      <th>Work_accident</th>\n",
              "      <th>Source_of_Hire</th>\n",
              "      <th>Job_mode</th>\n",
              "    </tr>\n",
              "  </thead>\n",
              "  <tbody>\n",
              "    <tr>\n",
              "      <th>0</th>\n",
              "      <td>37</td>\n",
              "      <td>Yes</td>\n",
              "      <td>Travel_Rarely</td>\n",
              "      <td>Research &amp; Development</td>\n",
              "      <td>2</td>\n",
              "      <td>Male</td>\n",
              "      <td>2</td>\n",
              "      <td>1</td>\n",
              "      <td>Laboratory Technician</td>\n",
              "      <td>3</td>\n",
              "      <td>...</td>\n",
              "      <td>Graduation</td>\n",
              "      <td>2021-01-21</td>\n",
              "      <td>NaN</td>\n",
              "      <td>Salary</td>\n",
              "      <td>OFFICE</td>\n",
              "      <td>4</td>\n",
              "      <td>2</td>\n",
              "      <td>No</td>\n",
              "      <td>Job Event</td>\n",
              "      <td>Contract</td>\n",
              "    </tr>\n",
              "    <tr>\n",
              "      <th>1</th>\n",
              "      <td>21</td>\n",
              "      <td>No</td>\n",
              "      <td>Travel_Rarely</td>\n",
              "      <td>Research &amp; Development</td>\n",
              "      <td>15</td>\n",
              "      <td>Male</td>\n",
              "      <td>3</td>\n",
              "      <td>1</td>\n",
              "      <td>Research Scientist</td>\n",
              "      <td>4</td>\n",
              "      <td>...</td>\n",
              "      <td>Graduation</td>\n",
              "      <td>2021-03-13</td>\n",
              "      <td>NaN</td>\n",
              "      <td>Work Accident</td>\n",
              "      <td>WFH</td>\n",
              "      <td>5</td>\n",
              "      <td>2</td>\n",
              "      <td>No</td>\n",
              "      <td>Recruiter</td>\n",
              "      <td>Part Time</td>\n",
              "    </tr>\n",
              "    <tr>\n",
              "      <th>2</th>\n",
              "      <td>45</td>\n",
              "      <td>No</td>\n",
              "      <td>Travel_Rarely</td>\n",
              "      <td>Research &amp; Development</td>\n",
              "      <td>6</td>\n",
              "      <td>Male</td>\n",
              "      <td>3</td>\n",
              "      <td>3</td>\n",
              "      <td>Research Director</td>\n",
              "      <td>1</td>\n",
              "      <td>...</td>\n",
              "      <td>Post-Graduation</td>\n",
              "      <td>2021-01-23</td>\n",
              "      <td>NaN</td>\n",
              "      <td>Dept.Head</td>\n",
              "      <td>WFH</td>\n",
              "      <td>1</td>\n",
              "      <td>3</td>\n",
              "      <td>No</td>\n",
              "      <td>Job Event</td>\n",
              "      <td>Contract</td>\n",
              "    </tr>\n",
              "    <tr>\n",
              "      <th>3</th>\n",
              "      <td>23</td>\n",
              "      <td>No</td>\n",
              "      <td>Travel_Rarely</td>\n",
              "      <td>Sales</td>\n",
              "      <td>2</td>\n",
              "      <td>Male</td>\n",
              "      <td>3</td>\n",
              "      <td>1</td>\n",
              "      <td>Sales Representative</td>\n",
              "      <td>1</td>\n",
              "      <td>...</td>\n",
              "      <td>PHD</td>\n",
              "      <td>2021-04-25</td>\n",
              "      <td>NaN</td>\n",
              "      <td>Work Accident</td>\n",
              "      <td>OFFICE</td>\n",
              "      <td>1</td>\n",
              "      <td>0</td>\n",
              "      <td>Yes</td>\n",
              "      <td>Recruiter</td>\n",
              "      <td>FullTime</td>\n",
              "    </tr>\n",
              "    <tr>\n",
              "      <th>4</th>\n",
              "      <td>22</td>\n",
              "      <td>No</td>\n",
              "      <td>Travel_Rarely</td>\n",
              "      <td>Research &amp; Development</td>\n",
              "      <td>15</td>\n",
              "      <td>Female</td>\n",
              "      <td>3</td>\n",
              "      <td>1</td>\n",
              "      <td>Laboratory Technician</td>\n",
              "      <td>4</td>\n",
              "      <td>...</td>\n",
              "      <td>PHD</td>\n",
              "      <td>2021-06-14</td>\n",
              "      <td>NaN</td>\n",
              "      <td>Better Opportunity</td>\n",
              "      <td>WFH</td>\n",
              "      <td>5</td>\n",
              "      <td>2</td>\n",
              "      <td>No</td>\n",
              "      <td>Job Event</td>\n",
              "      <td>Contract</td>\n",
              "    </tr>\n",
              "  </tbody>\n",
              "</table>\n",
              "<p>5 rows × 32 columns</p>\n",
              "</div>\n",
              "      <button class=\"colab-df-convert\" onclick=\"convertToInteractive('df-36a0cc0a-ed2c-4397-8fb5-3cb62c57c8ae')\"\n",
              "              title=\"Convert this dataframe to an interactive table.\"\n",
              "              style=\"display:none;\">\n",
              "        \n",
              "  <svg xmlns=\"http://www.w3.org/2000/svg\" height=\"24px\"viewBox=\"0 0 24 24\"\n",
              "       width=\"24px\">\n",
              "    <path d=\"M0 0h24v24H0V0z\" fill=\"none\"/>\n",
              "    <path d=\"M18.56 5.44l.94 2.06.94-2.06 2.06-.94-2.06-.94-.94-2.06-.94 2.06-2.06.94zm-11 1L8.5 8.5l.94-2.06 2.06-.94-2.06-.94L8.5 2.5l-.94 2.06-2.06.94zm10 10l.94 2.06.94-2.06 2.06-.94-2.06-.94-.94-2.06-.94 2.06-2.06.94z\"/><path d=\"M17.41 7.96l-1.37-1.37c-.4-.4-.92-.59-1.43-.59-.52 0-1.04.2-1.43.59L10.3 9.45l-7.72 7.72c-.78.78-.78 2.05 0 2.83L4 21.41c.39.39.9.59 1.41.59.51 0 1.02-.2 1.41-.59l7.78-7.78 2.81-2.81c.8-.78.8-2.07 0-2.86zM5.41 20L4 18.59l7.72-7.72 1.47 1.35L5.41 20z\"/>\n",
              "  </svg>\n",
              "      </button>\n",
              "      \n",
              "  <style>\n",
              "    .colab-df-container {\n",
              "      display:flex;\n",
              "      flex-wrap:wrap;\n",
              "      gap: 12px;\n",
              "    }\n",
              "\n",
              "    .colab-df-convert {\n",
              "      background-color: #E8F0FE;\n",
              "      border: none;\n",
              "      border-radius: 50%;\n",
              "      cursor: pointer;\n",
              "      display: none;\n",
              "      fill: #1967D2;\n",
              "      height: 32px;\n",
              "      padding: 0 0 0 0;\n",
              "      width: 32px;\n",
              "    }\n",
              "\n",
              "    .colab-df-convert:hover {\n",
              "      background-color: #E2EBFA;\n",
              "      box-shadow: 0px 1px 2px rgba(60, 64, 67, 0.3), 0px 1px 3px 1px rgba(60, 64, 67, 0.15);\n",
              "      fill: #174EA6;\n",
              "    }\n",
              "\n",
              "    [theme=dark] .colab-df-convert {\n",
              "      background-color: #3B4455;\n",
              "      fill: #D2E3FC;\n",
              "    }\n",
              "\n",
              "    [theme=dark] .colab-df-convert:hover {\n",
              "      background-color: #434B5C;\n",
              "      box-shadow: 0px 1px 3px 1px rgba(0, 0, 0, 0.15);\n",
              "      filter: drop-shadow(0px 1px 2px rgba(0, 0, 0, 0.3));\n",
              "      fill: #FFFFFF;\n",
              "    }\n",
              "  </style>\n",
              "\n",
              "      <script>\n",
              "        const buttonEl =\n",
              "          document.querySelector('#df-36a0cc0a-ed2c-4397-8fb5-3cb62c57c8ae button.colab-df-convert');\n",
              "        buttonEl.style.display =\n",
              "          google.colab.kernel.accessAllowed ? 'block' : 'none';\n",
              "\n",
              "        async function convertToInteractive(key) {\n",
              "          const element = document.querySelector('#df-36a0cc0a-ed2c-4397-8fb5-3cb62c57c8ae');\n",
              "          const dataTable =\n",
              "            await google.colab.kernel.invokeFunction('convertToInteractive',\n",
              "                                                     [key], {});\n",
              "          if (!dataTable) return;\n",
              "\n",
              "          const docLinkHtml = 'Like what you see? Visit the ' +\n",
              "            '<a target=\"_blank\" href=https://colab.research.google.com/notebooks/data_table.ipynb>data table notebook</a>'\n",
              "            + ' to learn more about interactive tables.';\n",
              "          element.innerHTML = '';\n",
              "          dataTable['output_type'] = 'display_data';\n",
              "          await google.colab.output.renderOutput(dataTable, element);\n",
              "          const docLink = document.createElement('div');\n",
              "          docLink.innerHTML = docLinkHtml;\n",
              "          element.appendChild(docLink);\n",
              "        }\n",
              "      </script>\n",
              "    </div>\n",
              "  </div>\n",
              "  "
            ]
          },
          "metadata": {},
          "execution_count": 4
        },
        {
          "output_type": "stream",
          "name": "stdout",
          "text": [
            "Warning: Total number of columns (32) exceeds max_columns (20) limiting to first (20) columns.\n"
          ]
        }
      ],
      "source": [
        "training_data_x = pd.read_excel(\"/content/Final dataset Attrition.xlsx\", engine =\"openpyxl\")\n",
        "training_data_x.head()"
      ]
    },
    {
      "cell_type": "markdown",
      "source": [
        "# New Section"
      ],
      "metadata": {
        "id": "CQ1bulq4Acaq"
      },
      "id": "CQ1bulq4Acaq"
    },
    {
      "cell_type": "markdown",
      "source": [
        "# **Notes about data**\n",
        "\n",
        "We need to perform one-hot-encoding on some of the input features that are string-like and add them at the end of the training set. We may ignore the day of joining feature since the data about leaving is not provided and it would be trivial to have a single date as going by intuition it should have zero impact on the attrition rate.\n",
        "\n",
        "**Features to be changed:** \n",
        "\n",
        "\n",
        "*   BusinessTravel\n",
        "*   Gender\n",
        "*   JobRole\n",
        "*   MaritalStatus\n",
        "*   OverTime"
      ],
      "metadata": {
        "id": "3P_D84hKB1mn"
      },
      "id": "3P_D84hKB1mn"
    },
    {
      "cell_type": "code",
      "execution_count": 5,
      "id": "0f01dbc0-0fe1-4abd-935f-fb6e06feff15",
      "metadata": {
        "id": "0f01dbc0-0fe1-4abd-935f-fb6e06feff15",
        "outputId": "c531a5a6-fbf6-4695-f722-b44abc83f9d0",
        "colab": {
          "base_uri": "https://localhost:8080/"
        }
      },
      "outputs": [
        {
          "output_type": "execute_result",
          "data": {
            "text/plain": [
              "OneHotEncoder(handle_unknown='ignore')"
            ]
          },
          "metadata": {},
          "execution_count": 5
        }
      ],
      "source": [
        "enc = OneHotEncoder(handle_unknown='ignore')\n",
        "X = [['Male', 1], ['Female', 3], ['Female', 2]]\n",
        "enc.fit(X)\n"
      ]
    },
    {
      "cell_type": "code",
      "execution_count": 6,
      "id": "575baff0-40d7-4956-8fa9-160550c07d82",
      "metadata": {
        "id": "575baff0-40d7-4956-8fa9-160550c07d82",
        "outputId": "bc2dbe80-1c21-49bc-c5f3-69005ce56550",
        "colab": {
          "base_uri": "https://localhost:8080/"
        }
      },
      "outputs": [
        {
          "output_type": "execute_result",
          "data": {
            "text/plain": [
              "[array(['Female', 'Male'], dtype=object), array([1, 2, 3], dtype=object)]"
            ]
          },
          "metadata": {},
          "execution_count": 6
        }
      ],
      "source": [
        "enc.categories_"
      ]
    },
    {
      "cell_type": "code",
      "execution_count": 7,
      "id": "97d3ba2a-9bfc-417a-90db-b80780843f2a",
      "metadata": {
        "id": "97d3ba2a-9bfc-417a-90db-b80780843f2a",
        "outputId": "b81940fe-f4a7-4d08-9172-db8947671a4b",
        "colab": {
          "base_uri": "https://localhost:8080/"
        }
      },
      "outputs": [
        {
          "output_type": "execute_result",
          "data": {
            "text/plain": [
              "array([[1., 0., 1., 0., 0.],\n",
              "       [0., 1., 0., 0., 0.]])"
            ]
          },
          "metadata": {},
          "execution_count": 7
        }
      ],
      "source": [
        "enc.transform([['Female', 1], ['Male', 4]]).toarray()"
      ]
    },
    {
      "cell_type": "code",
      "execution_count": 8,
      "id": "746ab10f-9a75-4fb1-88e9-b002112ba5e5",
      "metadata": {
        "id": "746ab10f-9a75-4fb1-88e9-b002112ba5e5",
        "outputId": "166bd01a-bc23-44a3-f7a4-9c5b9a7720f7",
        "colab": {
          "base_uri": "https://localhost:8080/"
        }
      },
      "outputs": [
        {
          "output_type": "execute_result",
          "data": {
            "text/plain": [
              "array(['gender_Female', 'gender_Male', 'group_1', 'group_2', 'group_3'],\n",
              "      dtype=object)"
            ]
          },
          "metadata": {},
          "execution_count": 8
        }
      ],
      "source": [
        "enc.get_feature_names_out(['gender', 'group'])"
      ]
    },
    {
      "cell_type": "code",
      "source": [
        "enc.categories_"
      ],
      "metadata": {
        "id": "mnE2wPRFBGms",
        "outputId": "62128111-beb3-42a0-d618-d671a2f7e6d0",
        "colab": {
          "base_uri": "https://localhost:8080/"
        }
      },
      "id": "mnE2wPRFBGms",
      "execution_count": 9,
      "outputs": [
        {
          "output_type": "execute_result",
          "data": {
            "text/plain": [
              "[array(['Female', 'Male'], dtype=object), array([1, 2, 3], dtype=object)]"
            ]
          },
          "metadata": {},
          "execution_count": 9
        }
      ]
    },
    {
      "cell_type": "code",
      "source": [],
      "metadata": {
        "id": "6nB0Cd9cBhUK"
      },
      "id": "6nB0Cd9cBhUK",
      "execution_count": null,
      "outputs": []
    }
  ],
  "metadata": {
    "kernelspec": {
      "display_name": "Python [conda env:machine_learning]",
      "language": "python",
      "name": "conda-env-machine_learning-py"
    },
    "language_info": {
      "codemirror_mode": {
        "name": "ipython",
        "version": 3
      },
      "file_extension": ".py",
      "mimetype": "text/x-python",
      "name": "python",
      "nbconvert_exporter": "python",
      "pygments_lexer": "ipython3",
      "version": "3.6.4"
    },
    "colab": {
      "provenance": []
    },
    "gpuClass": "standard"
  },
  "nbformat": 4,
  "nbformat_minor": 5
}