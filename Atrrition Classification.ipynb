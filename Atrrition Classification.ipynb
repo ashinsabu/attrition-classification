{
  "cells": [
    {
      "cell_type": "code",
      "execution_count": 2,
      "id": "8fc5c26d-64c5-416c-a151-013324dc049a",
      "metadata": {
        "id": "8fc5c26d-64c5-416c-a151-013324dc049a"
      },
      "outputs": [],
      "source": [
        "import os\n",
        "import numpy as np\n",
        "from matplotlib import pyplot\n",
        "import pandas as pd\n",
        "from sklearn.preprocessing import OneHotEncoder\n",
        "%matplotlib inline"
      ]
    },
    {
      "cell_type": "code",
      "source": [
        "from google.colab import drive\n",
        "drive.mount('/content/drive')"
      ],
      "metadata": {
        "colab": {
          "base_uri": "https://localhost:8080/"
        },
        "id": "_d4EbSC9ATAf",
        "outputId": "03bde3ae-523a-421a-debd-aa197d26d124"
      },
      "id": "_d4EbSC9ATAf",
      "execution_count": 1,
      "outputs": [
        {
          "output_type": "stream",
          "name": "stdout",
          "text": [
            "Mounted at /content/drive\n"
          ]
        }
      ]
    },
    {
      "cell_type": "code",
      "execution_count": 4,
      "id": "712ae5c7-7ec7-42e5-9a2b-5614978b8b75",
      "metadata": {
        "colab": {
          "base_uri": "https://localhost:8080/",
          "height": 332
        },
        "id": "712ae5c7-7ec7-42e5-9a2b-5614978b8b75",
        "outputId": "5b1faa85-2dba-4872-ee43-236db6440ae9"
      },
      "outputs": [
        {
          "output_type": "execute_result",
          "data": {
            "text/plain": [
              "   Age Attrition BusinessTravel              Department  DistanceFromHome  \\\n",
              "0   37       Yes  Travel_Rarely  Research & Development                 2   \n",
              "1   21        No  Travel_Rarely  Research & Development                15   \n",
              "2   45        No  Travel_Rarely  Research & Development                 6   \n",
              "3   23        No  Travel_Rarely                   Sales                 2   \n",
              "4   22        No  Travel_Rarely  Research & Development                15   \n",
              "\n",
              "   Gender  JobInvolvement  JobLevel                JobRole  JobSatisfaction  \\\n",
              "0    Male               2         1  Laboratory Technician                3   \n",
              "1    Male               3         1     Research Scientist                4   \n",
              "2    Male               3         3      Research Director                1   \n",
              "3    Male               3         1   Sales Representative                1   \n",
              "4  Female               3         1  Laboratory Technician                4   \n",
              "\n",
              "   ... Higher_Education  Date_of_Hire  Date_of_termination  \\\n",
              "0  ...       Graduation    2021-01-21                  NaN   \n",
              "1  ...       Graduation    2021-03-13                  NaN   \n",
              "2  ...  Post-Graduation    2021-01-23                  NaN   \n",
              "3  ...              PHD    2021-04-25                  NaN   \n",
              "4  ...              PHD    2021-06-14                  NaN   \n",
              "\n",
              "    Status_of_leaving  Mode_of_work  Leaves  Absenteeism  Work_accident  \\\n",
              "0              Salary        OFFICE       4            2             No   \n",
              "1       Work Accident           WFH       5            2             No   \n",
              "2           Dept.Head           WFH       1            3             No   \n",
              "3       Work Accident        OFFICE       1            0            Yes   \n",
              "4  Better Opportunity           WFH       5            2             No   \n",
              "\n",
              "   Source_of_Hire   Job_mode  \n",
              "0       Job Event   Contract  \n",
              "1       Recruiter  Part Time  \n",
              "2       Job Event   Contract  \n",
              "3       Recruiter   FullTime  \n",
              "4       Job Event   Contract  \n",
              "\n",
              "[5 rows x 32 columns]"
            ],
            "text/html": [
              "\n",
              "  <div id=\"df-36a0cc0a-ed2c-4397-8fb5-3cb62c57c8ae\">\n",
              "    <div class=\"colab-df-container\">\n",
              "      <div>\n",
              "<style scoped>\n",
              "    .dataframe tbody tr th:only-of-type {\n",
              "        vertical-align: middle;\n",
              "    }\n",
              "\n",
              "    .dataframe tbody tr th {\n",
              "        vertical-align: top;\n",
              "    }\n",
              "\n",
              "    .dataframe thead th {\n",
              "        text-align: right;\n",
              "    }\n",
              "</style>\n",
              "<table border=\"1\" class=\"dataframe\">\n",
              "  <thead>\n",
              "    <tr style=\"text-align: right;\">\n",
              "      <th></th>\n",
              "      <th>Age</th>\n",
              "      <th>Attrition</th>\n",
              "      <th>BusinessTravel</th>\n",
              "      <th>Department</th>\n",
              "      <th>DistanceFromHome</th>\n",
              "      <th>Gender</th>\n",
              "      <th>JobInvolvement</th>\n",
              "      <th>JobLevel</th>\n",
              "      <th>JobRole</th>\n",
              "      <th>JobSatisfaction</th>\n",
              "      <th>...</th>\n",
              "      <th>Higher_Education</th>\n",
              "      <th>Date_of_Hire</th>\n",
              "      <th>Date_of_termination</th>\n",
              "      <th>Status_of_leaving</th>\n",
              "      <th>Mode_of_work</th>\n",
              "      <th>Leaves</th>\n",
              "      <th>Absenteeism</th>\n",
              "      <th>Work_accident</th>\n",
              "      <th>Source_of_Hire</th>\n",
              "      <th>Job_mode</th>\n",
              "    </tr>\n",
              "  </thead>\n",
              "  <tbody>\n",
              "    <tr>\n",
              "      <th>0</th>\n",
              "      <td>37</td>\n",
              "      <td>Yes</td>\n",
              "      <td>Travel_Rarely</td>\n",
              "      <td>Research &amp; Development</td>\n",
              "      <td>2</td>\n",
              "      <td>Male</td>\n",
              "      <td>2</td>\n",
              "      <td>1</td>\n",
              "      <td>Laboratory Technician</td>\n",
              "      <td>3</td>\n",
              "      <td>...</td>\n",
              "      <td>Graduation</td>\n",
              "      <td>2021-01-21</td>\n",
              "      <td>NaN</td>\n",
              "      <td>Salary</td>\n",
              "      <td>OFFICE</td>\n",
              "      <td>4</td>\n",
              "      <td>2</td>\n",
              "      <td>No</td>\n",
              "      <td>Job Event</td>\n",
              "      <td>Contract</td>\n",
              "    </tr>\n",
              "    <tr>\n",
              "      <th>1</th>\n",
              "      <td>21</td>\n",
              "      <td>No</td>\n",
              "      <td>Travel_Rarely</td>\n",
              "      <td>Research &amp; Development</td>\n",
              "      <td>15</td>\n",
              "      <td>Male</td>\n",
              "      <td>3</td>\n",
              "      <td>1</td>\n",
              "      <td>Research Scientist</td>\n",
              "      <td>4</td>\n",
              "      <td>...</td>\n",
              "      <td>Graduation</td>\n",
              "      <td>2021-03-13</td>\n",
              "      <td>NaN</td>\n",
              "      <td>Work Accident</td>\n",
              "      <td>WFH</td>\n",
              "      <td>5</td>\n",
              "      <td>2</td>\n",
              "      <td>No</td>\n",
              "      <td>Recruiter</td>\n",
              "      <td>Part Time</td>\n",
              "    </tr>\n",
              "    <tr>\n",
              "      <th>2</th>\n",
              "      <td>45</td>\n",
              "      <td>No</td>\n",
              "      <td>Travel_Rarely</td>\n",
              "      <td>Research &amp; Development</td>\n",
              "      <td>6</td>\n",
              "      <td>Male</td>\n",
              "      <td>3</td>\n",
              "      <td>3</td>\n",
              "      <td>Research Director</td>\n",
              "      <td>1</td>\n",
              "      <td>...</td>\n",
              "      <td>Post-Graduation</td>\n",
              "      <td>2021-01-23</td>\n",
              "      <td>NaN</td>\n",
              "      <td>Dept.Head</td>\n",
              "      <td>WFH</td>\n",
              "      <td>1</td>\n",
              "      <td>3</td>\n",
              "      <td>No</td>\n",
              "      <td>Job Event</td>\n",
              "      <td>Contract</td>\n",
              "    </tr>\n",
              "    <tr>\n",
              "      <th>3</th>\n",
              "      <td>23</td>\n",
              "      <td>No</td>\n",
              "      <td>Travel_Rarely</td>\n",
              "      <td>Sales</td>\n",
              "      <td>2</td>\n",
              "      <td>Male</td>\n",
              "      <td>3</td>\n",
              "      <td>1</td>\n",
              "      <td>Sales Representative</td>\n",
              "      <td>1</td>\n",
              "      <td>...</td>\n",
              "      <td>PHD</td>\n",
              "      <td>2021-04-25</td>\n",
              "      <td>NaN</td>\n",
              "      <td>Work Accident</td>\n",
              "      <td>OFFICE</td>\n",
              "      <td>1</td>\n",
              "      <td>0</td>\n",
              "      <td>Yes</td>\n",
              "      <td>Recruiter</td>\n",
              "      <td>FullTime</td>\n",
              "    </tr>\n",
              "    <tr>\n",
              "      <th>4</th>\n",
              "      <td>22</td>\n",
              "      <td>No</td>\n",
              "      <td>Travel_Rarely</td>\n",
              "      <td>Research &amp; Development</td>\n",
              "      <td>15</td>\n",
              "      <td>Female</td>\n",
              "      <td>3</td>\n",
              "      <td>1</td>\n",
              "      <td>Laboratory Technician</td>\n",
              "      <td>4</td>\n",
              "      <td>...</td>\n",
              "      <td>PHD</td>\n",
              "      <td>2021-06-14</td>\n",
              "      <td>NaN</td>\n",
              "      <td>Better Opportunity</td>\n",
              "      <td>WFH</td>\n",
              "      <td>5</td>\n",
              "      <td>2</td>\n",
              "      <td>No</td>\n",
              "      <td>Job Event</td>\n",
              "      <td>Contract</td>\n",
              "    </tr>\n",
              "  </tbody>\n",
              "</table>\n",
              "<p>5 rows × 32 columns</p>\n",
              "</div>\n",
              "      <button class=\"colab-df-convert\" onclick=\"convertToInteractive('df-36a0cc0a-ed2c-4397-8fb5-3cb62c57c8ae')\"\n",
              "              title=\"Convert this dataframe to an interactive table.\"\n",
              "              style=\"display:none;\">\n",
              "        \n",
              "  <svg xmlns=\"http://www.w3.org/2000/svg\" height=\"24px\"viewBox=\"0 0 24 24\"\n",
              "       width=\"24px\">\n",
              "    <path d=\"M0 0h24v24H0V0z\" fill=\"none\"/>\n",
              "    <path d=\"M18.56 5.44l.94 2.06.94-2.06 2.06-.94-2.06-.94-.94-2.06-.94 2.06-2.06.94zm-11 1L8.5 8.5l.94-2.06 2.06-.94-2.06-.94L8.5 2.5l-.94 2.06-2.06.94zm10 10l.94 2.06.94-2.06 2.06-.94-2.06-.94-.94-2.06-.94 2.06-2.06.94z\"/><path d=\"M17.41 7.96l-1.37-1.37c-.4-.4-.92-.59-1.43-.59-.52 0-1.04.2-1.43.59L10.3 9.45l-7.72 7.72c-.78.78-.78 2.05 0 2.83L4 21.41c.39.39.9.59 1.41.59.51 0 1.02-.2 1.41-.59l7.78-7.78 2.81-2.81c.8-.78.8-2.07 0-2.86zM5.41 20L4 18.59l7.72-7.72 1.47 1.35L5.41 20z\"/>\n",
              "  </svg>\n",
              "      </button>\n",
              "      \n",
              "  <style>\n",
              "    .colab-df-container {\n",
              "      display:flex;\n",
              "      flex-wrap:wrap;\n",
              "      gap: 12px;\n",
              "    }\n",
              "\n",
              "    .colab-df-convert {\n",
              "      background-color: #E8F0FE;\n",
              "      border: none;\n",
              "      border-radius: 50%;\n",
              "      cursor: pointer;\n",
              "      display: none;\n",
              "      fill: #1967D2;\n",
              "      height: 32px;\n",
              "      padding: 0 0 0 0;\n",
              "      width: 32px;\n",
              "    }\n",
              "\n",
              "    .colab-df-convert:hover {\n",
              "      background-color: #E2EBFA;\n",
              "      box-shadow: 0px 1px 2px rgba(60, 64, 67, 0.3), 0px 1px 3px 1px rgba(60, 64, 67, 0.15);\n",
              "      fill: #174EA6;\n",
              "    }\n",
              "\n",
              "    [theme=dark] .colab-df-convert {\n",
              "      background-color: #3B4455;\n",
              "      fill: #D2E3FC;\n",
              "    }\n",
              "\n",
              "    [theme=dark] .colab-df-convert:hover {\n",
              "      background-color: #434B5C;\n",
              "      box-shadow: 0px 1px 3px 1px rgba(0, 0, 0, 0.15);\n",
              "      filter: drop-shadow(0px 1px 2px rgba(0, 0, 0, 0.3));\n",
              "      fill: #FFFFFF;\n",
              "    }\n",
              "  </style>\n",
              "\n",
              "      <script>\n",
              "        const buttonEl =\n",
              "          document.querySelector('#df-36a0cc0a-ed2c-4397-8fb5-3cb62c57c8ae button.colab-df-convert');\n",
              "        buttonEl.style.display =\n",
              "          google.colab.kernel.accessAllowed ? 'block' : 'none';\n",
              "\n",
              "        async function convertToInteractive(key) {\n",
              "          const element = document.querySelector('#df-36a0cc0a-ed2c-4397-8fb5-3cb62c57c8ae');\n",
              "          const dataTable =\n",
              "            await google.colab.kernel.invokeFunction('convertToInteractive',\n",
              "                                                     [key], {});\n",
              "          if (!dataTable) return;\n",
              "\n",
              "          const docLinkHtml = 'Like what you see? Visit the ' +\n",
              "            '<a target=\"_blank\" href=https://colab.research.google.com/notebooks/data_table.ipynb>data table notebook</a>'\n",
              "            + ' to learn more about interactive tables.';\n",
              "          element.innerHTML = '';\n",
              "          dataTable['output_type'] = 'display_data';\n",
              "          await google.colab.output.renderOutput(dataTable, element);\n",
              "          const docLink = document.createElement('div');\n",
              "          docLink.innerHTML = docLinkHtml;\n",
              "          element.appendChild(docLink);\n",
              "        }\n",
              "      </script>\n",
              "    </div>\n",
              "  </div>\n",
              "  "
            ]
          },
          "metadata": {},
          "execution_count": 4
        },
        {
          "output_type": "stream",
          "name": "stdout",
          "text": [
            "Warning: Total number of columns (32) exceeds max_columns (20) limiting to first (20) columns.\n"
          ]
        }
      ],
      "source": [
        "training_data_x = pd.read_excel(\"/content/Final dataset Attrition.xlsx\", engine =\"openpyxl\")\n",
        "training_data_x.head()"
      ]
    },
    {
      "cell_type": "markdown",
      "source": [
        "# New Section"
      ],
      "metadata": {
        "id": "CQ1bulq4Acaq"
      },
      "id": "CQ1bulq4Acaq"
    },
    {
      "cell_type": "markdown",
      "source": [
        "# **Notes about data**\n",
        "\n",
        "We need to perform one-hot-encoding on some of the input features that are string-like and add them at the end of the training set. We may ignore the day of joining feature since the data about leaving is not provided and it would be trivial to have a single date as going by intuition it should have zero impact on the attrition rate.\n",
        "\n",
        "**Features to be changed:** \n",
        "\n",
        "\n",
        "*   BusinessTravel\n",
        "*   Department\n",
        "*   Gender\n",
        "*   JobRole\n",
        "*   MaritalStatus\n",
        "*   OverTime\n"
      ],
      "metadata": {
        "id": "3P_D84hKB1mn"
      },
      "id": "3P_D84hKB1mn"
    },
    {
      "cell_type": "markdown",
      "source": [
        "# **Scaling Integer features**"
      ],
      "metadata": {
        "id": "IsJXfTT9HptG"
      },
      "id": "IsJXfTT9HptG"
    },
    {
      "cell_type": "code",
      "source": [
        "x_age = training_data_x['Age'].to_numpy()\n",
        "x_distanceFromHome = training_data_x['DistanceFromHome'].to_numpy()\n",
        "x_jobInvolvement = training_data_x['JobInvolvement'].to_numpy()\n",
        "x_jobLevel = training_data_x['JobLevel'].to_numpy()\n",
        "x_jobSatisfaction = training_data_x['JobSatisfaction'].to_numpy()\n",
        "x_monthlyIncome = training_data_x['MonthlyIncome'].to_numpy()\n",
        "x_numCompaniesWorked = training_data_x['NumCompaniesWorked'].to_numpy()\n",
        "x_percentSalaryHike = training_data_x['PercentSalaryHike'].to_numpy()\n",
        "x_performanceRating = training_data_x['PerformanceRating'].to_numpy()\n",
        "x_stockOptionLevel = training_data_x['StockOptionLevel'].to_numpy()\n",
        "x_totalWorkingYears = training_data_x['TotalWorkingYears'].to_numpy()\n",
        "x_trainingTimesLastYear = training_data_x['TrainingTimesLastYear'].to_numpy()\n",
        "x_yearsAtCompany = training_data_x['YearsAtCompany'].to_numpy()\n",
        "x_yearsSinceLastPromotion = training_data_x['YearsSinceLastPromotion'].to_numpy()\n",
        "x_yearsWithCurrManager = training_data_x['YearsWithCurrManager'].to_numpy()\n",
        "x_leaves = training_data_x['Leaves'].to_numpy()\n",
        "x_absenteeism = training_data_x['Absenteeism'].to_numpy()"
      ],
      "metadata": {
        "id": "6nB0Cd9cBhUK"
      },
      "id": "6nB0Cd9cBhUK",
      "execution_count": 17,
      "outputs": []
    },
    {
      "cell_type": "code",
      "source": [
        "attrition = training_data_x['Attrition'].to_numpy()\n",
        "attritionBoolean = []\n",
        "for x in attrition:\n",
        "  if(x == \"Yes\"):\n",
        "    attritionBoolean.append(1)\n",
        "  else:\n",
        "    attritionBoolean.append(0)\n",
        "attritionBoolean = np.array(attritionBoolean)\n",
        "print(attritionBoolean)"
      ],
      "metadata": {
        "colab": {
          "base_uri": "https://localhost:8080/"
        },
        "id": "HdxP22AhR2O6",
        "outputId": "79291b43-9d1c-49b0-f02d-28c87bf1d694"
      },
      "id": "HdxP22AhR2O6",
      "execution_count": 48,
      "outputs": [
        {
          "output_type": "stream",
          "name": "stdout",
          "text": [
            "[1 0 0 ... 0 0 1]\n"
          ]
        }
      ]
    },
    {
      "cell_type": "code",
      "source": [
        "scalingFeatures = np.array(attritionBoolean)\n",
        "scalingFeatures = np.vstack([scalingFeatures, x_age, x_distanceFromHome, x_jobInvolvement, x_jobLevel, x_jobSatisfaction, x_monthlyIncome, \n",
        "                             x_numCompaniesWorked, x_percentSalaryHike, x_performanceRating, x_stockOptionLevel, x_totalWorkingYears, \n",
        "                             x_trainingTimesLastYear, x_yearsAtCompany, x_yearsSinceLastPromotion, x_yearsWithCurrManager, x_leaves, \n",
        "                             x_absenteeism])\n",
        "scalingFeatures = scalingFeatures.transpose()\n",
        "print(scalingFeatures)"
      ],
      "metadata": {
        "colab": {
          "base_uri": "https://localhost:8080/"
        },
        "id": "pjorksHAPcgd",
        "outputId": "e84742bf-18fb-4cad-86ef-b79446a74794"
      },
      "id": "pjorksHAPcgd",
      "execution_count": 49,
      "outputs": [
        {
          "output_type": "stream",
          "name": "stdout",
          "text": [
            "[[ 1 37  2 ...  0  4  2]\n",
            " [ 0 21 15 ...  0  5  2]\n",
            " [ 0 45  6 ...  0  1  3]\n",
            " ...\n",
            " [ 0 55 26 ... 13  2  1]\n",
            " [ 0 58 10 ...  8  2  2]\n",
            " [ 1 58 23 ...  6  4  3]]\n"
          ]
        }
      ]
    },
    {
      "cell_type": "markdown",
      "source": [
        "# **Features to be split through one hot encoding**"
      ],
      "metadata": {
        "id": "bmUrPS69IN2e"
      },
      "id": "bmUrPS69IN2e"
    },
    {
      "cell_type": "code",
      "source": [
        "x_workAccident = training_data_x['Work_accident'].to_numpy()\n",
        "x_businessTravel = training_data_x['BusinessTravel'].to_numpy()\n",
        "x_department = training_data_x['Department'].to_numpy()\n",
        "x_gender = training_data_x['Gender'].to_numpy()\n",
        "x_jobRole = training_data_x['JobRole'].to_numpy()\n",
        "x_maritalStatus = training_data_x['MaritalStatus'].to_numpy()\n",
        "x_overtime = training_data_x['OverTime'].to_numpy()\n",
        "x_higherEducation = training_data_x['Higher_Education'].to_numpy()\n",
        "x_statusOfLeaving = training_data_x['Status_of_leaving'].to_numpy()\n",
        "x_modeOfWork = training_data_x['Mode_of_work'].to_numpy()\n",
        "x_sourceOfHire = training_data_x['Source_of_Hire'].to_numpy()\n",
        "x_jobMode = training_data_x['Job_mode'].to_numpy()"
      ],
      "metadata": {
        "id": "7v-bCf7EEb_D"
      },
      "id": "7v-bCf7EEb_D",
      "execution_count": 50,
      "outputs": []
    },
    {
      "cell_type": "code",
      "source": [
        "stringFeatures = np.array(x_workAccident)\n",
        "stringFeatures = np.vstack([stringFeatures, x_businessTravel, x_department, x_gender, x_jobRole, x_maritalStatus, x_overtime, x_higherEducation,\n",
        "                            x_statusOfLeaving, x_modeOfWork, x_sourceOfHire, x_jobMode])\n",
        "stringFeatures = stringFeatures.transpose()"
      ],
      "metadata": {
        "id": "M2yKvo3UKBv-"
      },
      "id": "M2yKvo3UKBv-",
      "execution_count": 93,
      "outputs": []
    },
    {
      "cell_type": "code",
      "source": [
        "featureEncoder = OneHotEncoder(handle_unknown = 'ignore')\n",
        "featureEncoder.fit(stringFeatures)\n",
        "featureEncoder.categories_"
      ],
      "metadata": {
        "colab": {
          "base_uri": "https://localhost:8080/"
        },
        "id": "3uk2X-cVKhf1",
        "outputId": "43095ca7-735e-416b-af4c-9fbae9069c50"
      },
      "id": "3uk2X-cVKhf1",
      "execution_count": 52,
      "outputs": [
        {
          "output_type": "execute_result",
          "data": {
            "text/plain": [
              "[array(['No', 'Yes'], dtype=object),\n",
              " array(['Non-Travel', 'Travel_Frequently', 'Travel_Rarely'], dtype=object),\n",
              " array(['Human Resources', 'Research & Development', 'Sales'], dtype=object),\n",
              " array(['Female', 'Male'], dtype=object),\n",
              " array(['Healthcare Representative', 'Human Resources',\n",
              "        'Laboratory Technician', 'Manager', 'Manufacturing Director',\n",
              "        'Research Director', 'Research Scientist', 'Sales Executive',\n",
              "        'Sales Representative'], dtype=object),\n",
              " array(['Divorced', 'Married', 'Single'], dtype=object),\n",
              " array(['No', 'Yes'], dtype=object),\n",
              " array(['12th', 'Graduation', 'PHD', 'Post-Graduation'], dtype=object),\n",
              " array(['Better Opportunity', 'Dept.Head', 'Salary', 'Work Accident',\n",
              "        'Work Environment'], dtype=object),\n",
              " array(['OFFICE', 'WFH'], dtype=object),\n",
              " array(['Job Event', 'Job Portal', 'Recruiter', 'Walk-in'], dtype=object),\n",
              " array(['Contract', 'FullTime', 'Part Time'], dtype=object)]"
            ]
          },
          "metadata": {},
          "execution_count": 52
        }
      ]
    },
    {
      "cell_type": "code",
      "source": [
        "print(\"Schema for encoded format of string features\")\n",
        "featureEncoder.get_feature_names_out(['workAccident', \n",
        "                                      'businessTravel',\n",
        "                                      'department',\n",
        "                                      'gender',\n",
        "                                      'jobRole',\n",
        "                                      'maritalStatus',\n",
        "                                      'overtime',\n",
        "                                      'higherEducation',\n",
        "                                      'statusOfLeaving',\n",
        "                                      'modeOfWork',\n",
        "                                      'sourceOfHire',\n",
        "                                      'jobMode'])"
      ],
      "metadata": {
        "colab": {
          "base_uri": "https://localhost:8080/"
        },
        "id": "Sl-gIulSNQsw",
        "outputId": "9ba7ff5d-5eef-44ff-a61d-ae1d2802ac46"
      },
      "id": "Sl-gIulSNQsw",
      "execution_count": 94,
      "outputs": [
        {
          "output_type": "stream",
          "name": "stdout",
          "text": [
            "Schema for encoded format of string features\n"
          ]
        },
        {
          "output_type": "execute_result",
          "data": {
            "text/plain": [
              "array(['workAccident_No', 'workAccident_Yes', 'businessTravel_Non-Travel',\n",
              "       'businessTravel_Travel_Frequently', 'businessTravel_Travel_Rarely',\n",
              "       'department_Human Resources', 'department_Research & Development',\n",
              "       'department_Sales', 'gender_Female', 'gender_Male',\n",
              "       'jobRole_Healthcare Representative', 'jobRole_Human Resources',\n",
              "       'jobRole_Laboratory Technician', 'jobRole_Manager',\n",
              "       'jobRole_Manufacturing Director', 'jobRole_Research Director',\n",
              "       'jobRole_Research Scientist', 'jobRole_Sales Executive',\n",
              "       'jobRole_Sales Representative', 'maritalStatus_Divorced',\n",
              "       'maritalStatus_Married', 'maritalStatus_Single', 'overtime_No',\n",
              "       'overtime_Yes', 'higherEducation_12th',\n",
              "       'higherEducation_Graduation', 'higherEducation_PHD',\n",
              "       'higherEducation_Post-Graduation',\n",
              "       'statusOfLeaving_Better Opportunity', 'statusOfLeaving_Dept.Head',\n",
              "       'statusOfLeaving_Salary', 'statusOfLeaving_Work Accident',\n",
              "       'statusOfLeaving_Work Environment', 'modeOfWork_OFFICE',\n",
              "       'modeOfWork_WFH', 'sourceOfHire_Job Event',\n",
              "       'sourceOfHire_Job Portal', 'sourceOfHire_Recruiter',\n",
              "       'sourceOfHire_Walk-in', 'jobMode_Contract', 'jobMode_FullTime',\n",
              "       'jobMode_Part Time'], dtype=object)"
            ]
          },
          "metadata": {},
          "execution_count": 94
        }
      ]
    },
    {
      "cell_type": "code",
      "source": [
        "finalStringFeatures = featureEncoder.transform(stringFeatures).toarray()\n",
        "print(finalStringFeatures)"
      ],
      "metadata": {
        "colab": {
          "base_uri": "https://localhost:8080/"
        },
        "id": "LCZcjyF-ONME",
        "outputId": "05d3a7ce-383c-4ad8-92f3-5b68013088a2"
      },
      "id": "LCZcjyF-ONME",
      "execution_count": 54,
      "outputs": [
        {
          "output_type": "stream",
          "name": "stdout",
          "text": [
            "[[1. 0. 0. ... 1. 0. 0.]\n",
            " [1. 0. 0. ... 0. 0. 1.]\n",
            " [1. 0. 0. ... 1. 0. 0.]\n",
            " ...\n",
            " [1. 0. 0. ... 0. 0. 1.]\n",
            " [0. 1. 0. ... 0. 0. 1.]\n",
            " [0. 1. 0. ... 0. 1. 0.]]\n"
          ]
        }
      ]
    },
    {
      "cell_type": "code",
      "source": [
        "finalData = np.concatenate((scalingFeatures, finalStringFeatures), axis = 1)\n",
        "print(finalData)"
      ],
      "metadata": {
        "colab": {
          "base_uri": "https://localhost:8080/"
        },
        "id": "TcE972kJPFks",
        "outputId": "be93efa7-0775-46c4-8a22-bc76c192838d"
      },
      "id": "TcE972kJPFks",
      "execution_count": 55,
      "outputs": [
        {
          "output_type": "stream",
          "name": "stdout",
          "text": [
            "[[ 1. 37.  2. ...  1.  0.  0.]\n",
            " [ 0. 21. 15. ...  0.  0.  1.]\n",
            " [ 0. 45.  6. ...  1.  0.  0.]\n",
            " ...\n",
            " [ 0. 55. 26. ...  0.  0.  1.]\n",
            " [ 0. 58. 10. ...  0.  0.  1.]\n",
            " [ 1. 58. 23. ...  0.  1.  0.]]\n"
          ]
        }
      ]
    },
    {
      "cell_type": "markdown",
      "source": [
        "# **Schema for the final Data**\n",
        "y(attritionBoolean),\n",
        "\n",
        "x_age, \n",
        "\n",
        "x_distanceFromHome, \n",
        "\n",
        "x_jobInvolvement, \n",
        "\n",
        "x_jobLevel, \n",
        "\n",
        "x_jobSatisfaction, \n",
        "\n",
        "x_monthlyIncome, \n",
        "\n",
        "x_numCompaniesWorked,\n",
        "\n",
        "x_percentSalaryHike, \n",
        "\n",
        "x_performanceRating, \n",
        "\n",
        "x_stockOptionLevel, \n",
        "\n",
        "x_totalWorkingYears, \n",
        "\n",
        "x_trainingTimesLastYear,\n",
        "\n",
        "x_yearsAtCompany, \n",
        "\n",
        "x_yearsSinceLastPromotion, \n",
        "\n",
        "x_yearsWithCurrManager, \n",
        "\n",
        "x_leaves, \n",
        "\n",
        "x_absenteeism\n",
        "\n",
        "Rest of string features encoded\n",
        "\n",
        "\n",
        "\n",
        "****\n",
        "\n",
        "\n",
        "**We now split the data into two parts the first 1000 entries for training and the remaining as test data to test our model's accuracy.**"
      ],
      "metadata": {
        "id": "bj-6AS9EQtkh"
      },
      "id": "bj-6AS9EQtkh"
    },
    {
      "cell_type": "code",
      "source": [
        "trainData = finalData[:1000]\n",
        "testData = finalData[1000:]\n",
        "\n",
        "train_x = trainData[:,1:]\n",
        "train_y = trainData[:,0]\n",
        "\n",
        "test_x = testData[:,1:]\n",
        "test_y = testData[:,0]"
      ],
      "metadata": {
        "colab": {
          "base_uri": "https://localhost:8080/"
        },
        "id": "ZtoGsxHkQrg-",
        "outputId": "073d48c1-eaa2-41fe-bb7a-c2cbc6d7ea79"
      },
      "id": "ZtoGsxHkQrg-",
      "execution_count": 60,
      "outputs": [
        {
          "output_type": "stream",
          "name": "stdout",
          "text": [
            "[[37.  2.  2. ...  1.  0.  0.]\n",
            " [21. 15.  3. ...  0.  0.  1.]\n",
            " [45.  6.  3. ...  1.  0.  0.]\n",
            " ...\n",
            " [43.  3.  1. ...  0.  0.  1.]\n",
            " [26.  4.  3. ...  1.  0.  0.]\n",
            " [30.  9.  3. ...  0.  1.  0.]]\n"
          ]
        }
      ]
    },
    {
      "cell_type": "markdown",
      "source": [
        "# **Logistic Regression**"
      ],
      "metadata": {
        "id": "1Hu_I5wKXbLQ"
      },
      "id": "1Hu_I5wKXbLQ"
    },
    {
      "cell_type": "code",
      "source": [
        "from sklearn.linear_model import LogisticRegression\n",
        "LR = LogisticRegression(random_state=0, solver='lbfgs', multi_class='ovr', max_iter = 2000).fit(train_x, train_y)"
      ],
      "metadata": {
        "id": "TDY9elYdRpdk"
      },
      "id": "TDY9elYdRpdk",
      "execution_count": 78,
      "outputs": []
    },
    {
      "cell_type": "code",
      "source": [
        "print(\"Accuracy on training data: {}% \".format(round(LR.score(train_x,train_y),8)*100))\n",
        "print(\"Accuracy on last 472 entries of test data: {}% \" .format(round(LR.score(test_x,test_y), 8)*100))"
      ],
      "metadata": {
        "colab": {
          "base_uri": "https://localhost:8080/"
        },
        "id": "aeH8qfDYUklh",
        "outputId": "bd574776-c9dd-4bcd-d543-ed9895a63290"
      },
      "id": "aeH8qfDYUklh",
      "execution_count": 79,
      "outputs": [
        {
          "output_type": "stream",
          "name": "stdout",
          "text": [
            "Accuracy on training data: 87.5% \n",
            "Accuracy on last 472 entries of test data: 90.425532% \n"
          ]
        }
      ]
    },
    {
      "cell_type": "markdown",
      "source": [
        "**Determining AUC for logistic regression**"
      ],
      "metadata": {
        "id": "ORsvmI5Easne"
      },
      "id": "ORsvmI5Easne"
    },
    {
      "cell_type": "code",
      "source": [
        "from sklearn import metrics\n",
        "import matplotlib.pyplot as plt\n",
        "\n",
        "y_pred_proba = LR.predict_proba(test_x)[::,1]\n",
        "fpr, tpr, _ = metrics.roc_curve(test_y,  y_pred_proba)\n",
        "auc = metrics.roc_auc_score(test_y, y_pred_proba)\n",
        "plt.plot(fpr,tpr,label=\"data 1, auc=\"+str(auc))\n",
        "plt.legend(loc=4)\n",
        "plt.show()"
      ],
      "metadata": {
        "colab": {
          "base_uri": "https://localhost:8080/",
          "height": 265
        },
        "id": "FJRKy3GwZ-hd",
        "outputId": "202407d1-e966-4bf8-bcec-d995acdcf171"
      },
      "id": "FJRKy3GwZ-hd",
      "execution_count": 91,
      "outputs": [
        {
          "output_type": "display_data",
          "data": {
            "text/plain": [
              "<Figure size 432x288 with 1 Axes>"
            ],
            "image/png": "[encoded data removed]"
          },
          "metadata": {
            "needs_background": "light"
          }
        }
      ]
    },
    {
      "cell_type": "markdown",
      "source": [
        "**Conclusion for logistic regression**\n",
        "\n",
        "\n",
        "We get an accuracy of 87.5% on the training data and 90.4% on the test data through the weights for feature we get through logistic regression. Now let us try other algorithms/models/methods."
      ],
      "metadata": {
        "id": "LkiibTieXg2I"
      },
      "id": "LkiibTieXg2I"
    },
    {
      "cell_type": "markdown",
      "source": [
        "# **Random Forests**"
      ],
      "metadata": {
        "id": "4l51ta17YE_l"
      },
      "id": "4l51ta17YE_l"
    },
    {
      "cell_type": "code",
      "source": [
        "from sklearn.ensemble import RandomForestClassifier\n",
        "\n",
        "RF = RandomForestClassifier(n_estimators=1000, max_depth=4, random_state=0)\n",
        "RF.fit(train_x, train_y)"
      ],
      "metadata": {
        "colab": {
          "base_uri": "https://localhost:8080/"
        },
        "id": "4UY_3L9MYKn7",
        "outputId": "38a5ad9b-3ea9-4a35-b584-0fd721d97465"
      },
      "id": "4UY_3L9MYKn7",
      "execution_count": 84,
      "outputs": [
        {
          "output_type": "execute_result",
          "data": {
            "text/plain": [
              "RandomForestClassifier(max_depth=4, n_estimators=1000, random_state=0)"
            ]
          },
          "metadata": {},
          "execution_count": 84
        }
      ]
    },
    {
      "cell_type": "code",
      "source": [
        "print(\"Accuracy on training data: {}% \".format(round(RF.score(train_x,train_y),8)*100))\n",
        "print(\"Accuracy on last 472 entries of test data: {}% \" .format(round(RF.score(test_x,test_y), 8)*100))"
      ],
      "metadata": {
        "colab": {
          "base_uri": "https://localhost:8080/"
        },
        "id": "Z8wX4F4-YTMh",
        "outputId": "c847f4b3-c2af-4b97-9319-b6813cc74642"
      },
      "id": "Z8wX4F4-YTMh",
      "execution_count": 85,
      "outputs": [
        {
          "output_type": "stream",
          "name": "stdout",
          "text": [
            "Accuracy on training data: 84.0% \n",
            "Accuracy on last 472 entries of test data: 89.361702% \n"
          ]
        }
      ]
    },
    {
      "cell_type": "markdown",
      "source": [
        "**Determining AUC for Random Forest Classif**"
      ],
      "metadata": {
        "id": "5n6QGok0a2EA"
      },
      "id": "5n6QGok0a2EA"
    },
    {
      "cell_type": "code",
      "source": [
        "y_pred_proba = RF.predict_proba(test_x)[::,1]\n",
        "fpr, tpr, _ = metrics.roc_curve(test_y,  y_pred_proba)\n",
        "auc = metrics.roc_auc_score(test_y, y_pred_proba)\n",
        "plt.plot(fpr,tpr,label=\"data 1, auc=\"+str(auc))\n",
        "plt.legend(loc=4)\n",
        "plt.show()"
      ],
      "metadata": {
        "colab": {
          "base_uri": "https://localhost:8080/",
          "height": 265
        },
        "id": "2t0fc85mYYTq",
        "outputId": "ea958b8d-3237-448b-ff7f-c6f730cb5a5c"
      },
      "id": "2t0fc85mYYTq",
      "execution_count": 92,
      "outputs": [
        {
          "output_type": "display_data",
          "data": {
            "text/plain": [
              "<Figure size 432x288 with 1 Axes>"
            ],
            "image/png": "[encoded data removed]"
          },
          "metadata": {
            "needs_background": "light"
          }
        }
      ]
    },
    {
      "cell_type": "markdown",
      "source": [
        "# **Neural Networks**"
      ],
      "metadata": {
        "id": "bFMzUNacYiQ_"
      },
      "id": "bFMzUNacYiQ_"
    },
    {
      "cell_type": "code",
      "source": [
        "from sklearn.neural_network import MLPClassifier\n",
        "\n",
        "NN = MLPClassifier(solver='lbfgs', alpha=0.00001, hidden_layer_sizes=(30,30,30,30), random_state=1, max_iter = 100000)\n",
        "NN.fit(train_x, train_y)"
      ],
      "metadata": {
        "colab": {
          "base_uri": "https://localhost:8080/"
        },
        "id": "TC_9ocMdYlwK",
        "outputId": "f261ef75-60cb-4f03-db22-0685890cbe6a"
      },
      "id": "TC_9ocMdYlwK",
      "execution_count": 99,
      "outputs": [
        {
          "output_type": "execute_result",
          "data": {
            "text/plain": [
              "MLPClassifier(alpha=1e-05, hidden_layer_sizes=(30, 30, 30, 30), max_iter=100000,\n",
              "              random_state=1, solver='lbfgs')"
            ]
          },
          "metadata": {},
          "execution_count": 99
        }
      ]
    },
    {
      "cell_type": "code",
      "source": [
        "print(\"Accuracy on training data: {}% \".format(round(NN.score(train_x,train_y),8)*100))\n",
        "print(\"Accuracy on last 472 entries of test data: {}% \" .format(round(NN.score(test_x,test_y), 8)*100))"
      ],
      "metadata": {
        "colab": {
          "base_uri": "https://localhost:8080/"
        },
        "id": "35aR72FbYtAx",
        "outputId": "52c17b87-0767-4586-bbae-41e581cf57d5"
      },
      "id": "35aR72FbYtAx",
      "execution_count": 100,
      "outputs": [
        {
          "output_type": "stream",
          "name": "stdout",
          "text": [
            "Accuracy on training data: 81.5% \n",
            "Accuracy on last 472 entries of test data: 89.361702% \n"
          ]
        }
      ]
    },
    {
      "cell_type": "markdown",
      "source": [
        "**Determining AUC for Neural Networks**"
      ],
      "metadata": {
        "id": "fgGrcGNEcRUp"
      },
      "id": "fgGrcGNEcRUp"
    },
    {
      "cell_type": "code",
      "source": [
        "y_pred_proba = NN.predict_proba(test_x)[::,1]\n",
        "fpr, tpr, _ = metrics.roc_curve(test_y,  y_pred_proba)\n",
        "auc = metrics.roc_auc_score(test_y, y_pred_proba)\n",
        "plt.plot(fpr,tpr,label=\"data 1, auc=\"+str(auc))\n",
        "plt.legend(loc=4)\n",
        "plt.show()"
      ],
      "metadata": {
        "id": "Zpv5GAvYcNzd",
        "outputId": "9c3bf45a-8324-4283-b2b1-3952c5ce2d1f",
        "colab": {
          "base_uri": "https://localhost:8080/",
          "height": 265
        }
      },
      "id": "Zpv5GAvYcNzd",
      "execution_count": 101,
      "outputs": [
        {
          "output_type": "display_data",
          "data": {
            "text/plain": [
              "<Figure size 432x288 with 1 Axes>"
            ],
            "image/png": "[encoded data removed]"
          },
          "metadata": {
            "needs_background": "light"
          }
        }
      ]
    },
    {
      "cell_type": "markdown",
      "source": [
        "# **Conclusion**\n",
        "\n",
        "Although the implementations of these models were rather naive (in practice there are a variety of parameters that can and should be varied for each model), we can still compare the predictive accuracy across the models. This will tell us which one is the most accurate for this specific training and test dataset:\n",
        "\n",
        "**Model Details**\n",
        "\n",
        "Logistic Regression\n",
        "\n",
        "*   *Accuracy on test data: 90.42%*\n",
        "*   *AUC: 0.70*\n",
        "\n",
        "Random Forest Classifier\n",
        "\n",
        "*   *Accuracy on test data: 84.0%*\n",
        "*   *AUC: 0.68*\n",
        "\n",
        "Neural Network(Layers - 30,30,30,30)\n",
        "\n",
        "*   *Accuracy on test data: 81.5%*\n",
        "*   *AUC: 0.57*"
      ],
      "metadata": {
        "id": "MrINeuM3dQFI"
      },
      "id": "MrINeuM3dQFI"
    }
  ],
  "metadata": {
    "kernelspec": {
      "display_name": "Python [conda env:machine_learning]",
      "language": "python",
      "name": "conda-env-machine_learning-py"
    },
    "language_info": {
      "codemirror_mode": {
        "name": "ipython",
        "version": 3
      },
      "file_extension": ".py",
      "mimetype": "text/x-python",
      "name": "python",
      "nbconvert_exporter": "python",
      "pygments_lexer": "ipython3",
      "version": "3.6.4"
    },
    "colab": {
      "provenance": []
    },
    "gpuClass": "standard"
  },
  "nbformat": 4,
  "nbformat_minor": 5
}